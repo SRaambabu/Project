{
 "cells": [
  {
   "cell_type": "markdown",
   "id": "7cbd7a09",
   "metadata": {},
   "source": [
    "# Install packages"
   ]
  },
  {
   "cell_type": "code",
   "execution_count": 16,
   "id": "975e4212",
   "metadata": {},
   "outputs": [
    {
     "name": "stdout",
     "output_type": "stream",
     "text": [
      "Requirement already satisfied: numpy in c:\\users\\elcot\\anaconda3\\lib\\site-packages (1.23.5)\n",
      "Note: you may need to restart the kernel to use updated packages.\n"
     ]
    }
   ],
   "source": [
    "pip install numpy"
   ]
  },
  {
   "cell_type": "code",
   "execution_count": 17,
   "id": "0afb8eca",
   "metadata": {},
   "outputs": [
    {
     "name": "stdout",
     "output_type": "stream",
     "text": [
      "Requirement already satisfied: pandas in c:\\users\\elcot\\anaconda3\\lib\\site-packages (1.5.3)Note: you may need to restart the kernel to use updated packages.\n",
      "\n",
      "Requirement already satisfied: pytz>=2020.1 in c:\\users\\elcot\\anaconda3\\lib\\site-packages (from pandas) (2022.7)\n",
      "Requirement already satisfied: python-dateutil>=2.8.1 in c:\\users\\elcot\\anaconda3\\lib\\site-packages (from pandas) (2.8.2)\n",
      "Requirement already satisfied: numpy>=1.21.0 in c:\\users\\elcot\\anaconda3\\lib\\site-packages (from pandas) (1.23.5)\n",
      "Requirement already satisfied: six>=1.5 in c:\\users\\elcot\\anaconda3\\lib\\site-packages (from python-dateutil>=2.8.1->pandas) (1.16.0)\n"
     ]
    }
   ],
   "source": [
    "pip install pandas"
   ]
  },
  {
   "cell_type": "code",
   "execution_count": 20,
   "id": "2cbf9f8d",
   "metadata": {},
   "outputs": [
    {
     "name": "stdout",
     "output_type": "stream",
     "text": [
      "Requirement already satisfied: scikit-learn in c:\\users\\elcot\\anaconda3\\lib\\site-packages (1.2.1)\n",
      "Requirement already satisfied: joblib>=1.1.1 in c:\\users\\elcot\\anaconda3\\lib\\site-packages (from scikit-learn) (1.1.1)\n",
      "Requirement already satisfied: threadpoolctl>=2.0.0 in c:\\users\\elcot\\anaconda3\\lib\\site-packages (from scikit-learn) (2.2.0)\n",
      "Requirement already satisfied: scipy>=1.3.2 in c:\\users\\elcot\\anaconda3\\lib\\site-packages (from scikit-learn) (1.10.0)\n",
      "Requirement already satisfied: numpy>=1.17.3 in c:\\users\\elcot\\anaconda3\\lib\\site-packages (from scikit-learn) (1.23.5)\n",
      "Note: you may need to restart the kernel to use updated packages.\n"
     ]
    }
   ],
   "source": [
    "pip install scikit-learn"
   ]
  },
  {
   "cell_type": "code",
   "execution_count": 22,
   "id": "b6e13bfb",
   "metadata": {},
   "outputs": [
    {
     "name": "stdout",
     "output_type": "stream",
     "text": [
      "Requirement already satisfied: matplotlib in c:\\users\\elcot\\anaconda3\\lib\\site-packages (3.7.0)\n",
      "Requirement already satisfied: contourpy>=1.0.1 in c:\\users\\elcot\\anaconda3\\lib\\site-packages (from matplotlib) (1.0.5)\n",
      "Requirement already satisfied: fonttools>=4.22.0 in c:\\users\\elcot\\anaconda3\\lib\\site-packages (from matplotlib) (4.25.0)\n",
      "Requirement already satisfied: pillow>=6.2.0 in c:\\users\\elcot\\anaconda3\\lib\\site-packages (from matplotlib) (9.4.0)\n",
      "Requirement already satisfied: pyparsing>=2.3.1 in c:\\users\\elcot\\anaconda3\\lib\\site-packages (from matplotlib) (3.0.9)\n",
      "Requirement already satisfied: python-dateutil>=2.7 in c:\\users\\elcot\\anaconda3\\lib\\site-packages (from matplotlib) (2.8.2)\n",
      "Requirement already satisfied: numpy>=1.20 in c:\\users\\elcot\\anaconda3\\lib\\site-packages (from matplotlib) (1.23.5)\n",
      "Requirement already satisfied: cycler>=0.10 in c:\\users\\elcot\\anaconda3\\lib\\site-packages (from matplotlib) (0.11.0)\n",
      "Requirement already satisfied: kiwisolver>=1.0.1 in c:\\users\\elcot\\anaconda3\\lib\\site-packages (from matplotlib) (1.4.4)\n",
      "Requirement already satisfied: packaging>=20.0 in c:\\users\\elcot\\anaconda3\\lib\\site-packages (from matplotlib) (22.0)\n",
      "Requirement already satisfied: six>=1.5 in c:\\users\\elcot\\anaconda3\\lib\\site-packages (from python-dateutil>=2.7->matplotlib) (1.16.0)\n",
      "Note: you may need to restart the kernel to use updated packages.\n"
     ]
    }
   ],
   "source": [
    "pip install matplotlib"
   ]
  },
  {
   "cell_type": "code",
   "execution_count": 52,
   "id": "5bd10fe9",
   "metadata": {},
   "outputs": [
    {
     "name": "stdout",
     "output_type": "stream",
     "text": [
      "Requirement already satisfied: seaborn in c:\\users\\elcot\\anaconda3\\lib\\site-packages (0.12.2)\n",
      "Requirement already satisfied: numpy!=1.24.0,>=1.17 in c:\\users\\elcot\\anaconda3\\lib\\site-packages (from seaborn) (1.23.5)\n",
      "Requirement already satisfied: pandas>=0.25 in c:\\users\\elcot\\anaconda3\\lib\\site-packages (from seaborn) (1.5.3)\n",
      "Requirement already satisfied: matplotlib!=3.6.1,>=3.1 in c:\\users\\elcot\\anaconda3\\lib\\site-packages (from seaborn) (3.7.0)\n",
      "Requirement already satisfied: packaging>=20.0 in c:\\users\\elcot\\anaconda3\\lib\\site-packages (from matplotlib!=3.6.1,>=3.1->seaborn) (22.0)\n",
      "Requirement already satisfied: kiwisolver>=1.0.1 in c:\\users\\elcot\\anaconda3\\lib\\site-packages (from matplotlib!=3.6.1,>=3.1->seaborn) (1.4.4)\n",
      "Requirement already satisfied: pillow>=6.2.0 in c:\\users\\elcot\\anaconda3\\lib\\site-packages (from matplotlib!=3.6.1,>=3.1->seaborn) (9.4.0)\n",
      "Requirement already satisfied: cycler>=0.10 in c:\\users\\elcot\\anaconda3\\lib\\site-packages (from matplotlib!=3.6.1,>=3.1->seaborn) (0.11.0)\n",
      "Requirement already satisfied: python-dateutil>=2.7 in c:\\users\\elcot\\anaconda3\\lib\\site-packages (from matplotlib!=3.6.1,>=3.1->seaborn) (2.8.2)\n",
      "Requirement already satisfied: fonttools>=4.22.0 in c:\\users\\elcot\\anaconda3\\lib\\site-packages (from matplotlib!=3.6.1,>=3.1->seaborn) (4.25.0)\n",
      "Requirement already satisfied: contourpy>=1.0.1 in c:\\users\\elcot\\anaconda3\\lib\\site-packages (from matplotlib!=3.6.1,>=3.1->seaborn) (1.0.5)\n",
      "Requirement already satisfied: pyparsing>=2.3.1 in c:\\users\\elcot\\anaconda3\\lib\\site-packages (from matplotlib!=3.6.1,>=3.1->seaborn) (3.0.9)\n",
      "Requirement already satisfied: pytz>=2020.1 in c:\\users\\elcot\\anaconda3\\lib\\site-packages (from pandas>=0.25->seaborn) (2022.7)\n",
      "Requirement already satisfied: six>=1.5 in c:\\users\\elcot\\anaconda3\\lib\\site-packages (from python-dateutil>=2.7->matplotlib!=3.6.1,>=3.1->seaborn) (1.16.0)\n",
      "Note: you may need to restart the kernel to use updated packages.\n"
     ]
    }
   ],
   "source": [
    "pip install seaborn"
   ]
  },
  {
   "cell_type": "markdown",
   "id": "3f8ce036",
   "metadata": {},
   "source": [
    "# Importing the packages with an alias"
   ]
  },
  {
   "cell_type": "code",
   "execution_count": 1,
   "id": "12492ed1",
   "metadata": {},
   "outputs": [],
   "source": [
    "import pandas as pd\n",
    "import numpy as np\n",
    "import matplotlib.pyplot as plt\n",
    "from sklearn.cluster import KMeans\n",
    "import seaborn as sns\n",
    "import warnings\n",
    "warnings.filterwarnings(\"ignore\")# Ignore all warnings"
   ]
  },
  {
   "cell_type": "markdown",
   "id": "fbba2507",
   "metadata": {},
   "source": [
    "# Importing the csv file"
   ]
  },
  {
   "cell_type": "code",
   "execution_count": 2,
   "id": "9eedcafa",
   "metadata": {},
   "outputs": [],
   "source": [
    "df = pd.read_csv(\"III_BCA.csv\")"
   ]
  },
  {
   "cell_type": "markdown",
   "id": "888d8341",
   "metadata": {},
   "source": [
    "# Viewing Data"
   ]
  },
  {
   "cell_type": "code",
   "execution_count": null,
   "id": "e7f882ec",
   "metadata": {},
   "outputs": [],
   "source": [
    "print(df) # Display the entire III_BCA"
   ]
  },
  {
   "cell_type": "code",
   "execution_count": 3,
   "id": "ff7bbe95",
   "metadata": {
    "scrolled": false
   },
   "outputs": [
    {
     "data": {
      "text/html": [
       "<div>\n",
       "<style scoped>\n",
       "    .dataframe tbody tr th:only-of-type {\n",
       "        vertical-align: middle;\n",
       "    }\n",
       "\n",
       "    .dataframe tbody tr th {\n",
       "        vertical-align: top;\n",
       "    }\n",
       "\n",
       "    .dataframe thead th {\n",
       "        text-align: right;\n",
       "    }\n",
       "</style>\n",
       "<table border=\"1\" class=\"dataframe\">\n",
       "  <thead>\n",
       "    <tr style=\"text-align: right;\">\n",
       "      <th></th>\n",
       "      <th>id</th>\n",
       "      <th>regno</th>\n",
       "      <th>name</th>\n",
       "      <th>class</th>\n",
       "      <th>U1CAC52</th>\n",
       "      <th>U1CAC53</th>\n",
       "      <th>U3CAC51</th>\n",
       "      <th>U3CAE51</th>\n",
       "      <th>Total</th>\n",
       "      <th>Average</th>\n",
       "      <th>Target</th>\n",
       "      <th>al_U1CAC52</th>\n",
       "      <th>sl_U1CAC52</th>\n",
       "      <th>al_U1CAC53</th>\n",
       "      <th>sl_U1CAC53</th>\n",
       "    </tr>\n",
       "  </thead>\n",
       "  <tbody>\n",
       "    <tr>\n",
       "      <th>0</th>\n",
       "      <td>1.0</td>\n",
       "      <td>20suca001</td>\n",
       "      <td>ANISHA BERNETH M</td>\n",
       "      <td>B.C.A (SELF)</td>\n",
       "      <td>2.2</td>\n",
       "      <td>2.0</td>\n",
       "      <td>2.0</td>\n",
       "      <td>1.8</td>\n",
       "      <td>8.0</td>\n",
       "      <td>2.00</td>\n",
       "      <td>active</td>\n",
       "      <td>0.0</td>\n",
       "      <td>2.2</td>\n",
       "      <td>NaN</td>\n",
       "      <td>2.0</td>\n",
       "    </tr>\n",
       "    <tr>\n",
       "      <th>1</th>\n",
       "      <td>2.0</td>\n",
       "      <td>20suca002</td>\n",
       "      <td>GAYATHIRI K</td>\n",
       "      <td>B.C.A (SELF)</td>\n",
       "      <td>4.8</td>\n",
       "      <td>4.4</td>\n",
       "      <td>3.8</td>\n",
       "      <td>2.2</td>\n",
       "      <td>15.2</td>\n",
       "      <td>3.80</td>\n",
       "      <td>active</td>\n",
       "      <td>4.8</td>\n",
       "      <td>0.0</td>\n",
       "      <td>NaN</td>\n",
       "      <td>4.4</td>\n",
       "    </tr>\n",
       "    <tr>\n",
       "      <th>2</th>\n",
       "      <td>3.0</td>\n",
       "      <td>20suca003</td>\n",
       "      <td>KALAISELVI S</td>\n",
       "      <td>B.C.A (SELF)</td>\n",
       "      <td>7.0</td>\n",
       "      <td>6.0</td>\n",
       "      <td>5.4</td>\n",
       "      <td>4.2</td>\n",
       "      <td>22.6</td>\n",
       "      <td>5.65</td>\n",
       "      <td>active</td>\n",
       "      <td>7.0</td>\n",
       "      <td>0.0</td>\n",
       "      <td>6.0</td>\n",
       "      <td>NaN</td>\n",
       "    </tr>\n",
       "    <tr>\n",
       "      <th>3</th>\n",
       "      <td>4.0</td>\n",
       "      <td>20suca004</td>\n",
       "      <td>NAGARANI K</td>\n",
       "      <td>B.C.A (SELF)</td>\n",
       "      <td>3.8</td>\n",
       "      <td>1.8</td>\n",
       "      <td>3.8</td>\n",
       "      <td>3.2</td>\n",
       "      <td>12.6</td>\n",
       "      <td>3.15</td>\n",
       "      <td>active</td>\n",
       "      <td>0.0</td>\n",
       "      <td>3.8</td>\n",
       "      <td>NaN</td>\n",
       "      <td>1.8</td>\n",
       "    </tr>\n",
       "    <tr>\n",
       "      <th>4</th>\n",
       "      <td>5.0</td>\n",
       "      <td>20suca005</td>\n",
       "      <td>PATHRAKALI K</td>\n",
       "      <td>B.C.A (SELF)</td>\n",
       "      <td>4.6</td>\n",
       "      <td>3.4</td>\n",
       "      <td>4.0</td>\n",
       "      <td>3.8</td>\n",
       "      <td>15.8</td>\n",
       "      <td>3.95</td>\n",
       "      <td>active</td>\n",
       "      <td>4.6</td>\n",
       "      <td>0.0</td>\n",
       "      <td>NaN</td>\n",
       "      <td>3.4</td>\n",
       "    </tr>\n",
       "  </tbody>\n",
       "</table>\n",
       "</div>"
      ],
      "text/plain": [
       "    id      regno              name         class  U1CAC52  U1CAC53  U3CAC51  \\\n",
       "0  1.0  20suca001  ANISHA BERNETH M  B.C.A (SELF)      2.2      2.0      2.0   \n",
       "1  2.0  20suca002       GAYATHIRI K  B.C.A (SELF)      4.8      4.4      3.8   \n",
       "2  3.0  20suca003      KALAISELVI S  B.C.A (SELF)      7.0      6.0      5.4   \n",
       "3  4.0  20suca004        NAGARANI K  B.C.A (SELF)      3.8      1.8      3.8   \n",
       "4  5.0  20suca005      PATHRAKALI K  B.C.A (SELF)      4.6      3.4      4.0   \n",
       "\n",
       "   U3CAE51  Total  Average  Target  al_U1CAC52  sl_U1CAC52  al_U1CAC53  \\\n",
       "0      1.8    8.0     2.00  active         0.0         2.2         NaN   \n",
       "1      2.2   15.2     3.80  active         4.8         0.0         NaN   \n",
       "2      4.2   22.6     5.65  active         7.0         0.0         6.0   \n",
       "3      3.2   12.6     3.15  active         0.0         3.8         NaN   \n",
       "4      3.8   15.8     3.95  active         4.6         0.0         NaN   \n",
       "\n",
       "   sl_U1CAC53  \n",
       "0         2.0  \n",
       "1         4.4  \n",
       "2         NaN  \n",
       "3         1.8  \n",
       "4         3.4  "
      ]
     },
     "execution_count": 3,
     "metadata": {},
     "output_type": "execute_result"
    }
   ],
   "source": [
    "df.head()  # Display the first 5 rows of the III_BCA"
   ]
  },
  {
   "cell_type": "code",
   "execution_count": 28,
   "id": "e62c7926",
   "metadata": {},
   "outputs": [
    {
     "name": "stdout",
     "output_type": "stream",
     "text": [
      "<class 'pandas.core.frame.DataFrame'>\n",
      "RangeIndex: 75 entries, 0 to 74\n",
      "Data columns (total 15 columns):\n",
      " #   Column      Non-Null Count  Dtype  \n",
      "---  ------      --------------  -----  \n",
      " 0   id          75 non-null     float64\n",
      " 1   regno       75 non-null     object \n",
      " 2   name        75 non-null     object \n",
      " 3   class       75 non-null     object \n",
      " 4   U1CAC52     75 non-null     float64\n",
      " 5   U1CAC53     75 non-null     float64\n",
      " 6   U3CAC51     75 non-null     float64\n",
      " 7   U3CAE51     75 non-null     float64\n",
      " 8   Total       75 non-null     float64\n",
      " 9   Average     75 non-null     float64\n",
      " 10  Target      75 non-null     object \n",
      " 11  al_U1CAC52  75 non-null     float64\n",
      " 12  sl_U1CAC52  75 non-null     float64\n",
      " 13  al_U1CAC53  34 non-null     float64\n",
      " 14  sl_U1CAC53  41 non-null     float64\n",
      "dtypes: float64(11), object(4)\n",
      "memory usage: 8.9+ KB\n"
     ]
    }
   ],
   "source": [
    "df.info() # Display summary information about the III_BCA"
   ]
  },
  {
   "cell_type": "code",
   "execution_count": 29,
   "id": "bd9a6a11",
   "metadata": {},
   "outputs": [
    {
     "data": {
      "text/plain": [
       "id             0\n",
       "regno          0\n",
       "name           0\n",
       "class          0\n",
       "U1CAC52        0\n",
       "U1CAC53        0\n",
       "U3CAC51        0\n",
       "U3CAE51        0\n",
       "Total          0\n",
       "Average        0\n",
       "Target         0\n",
       "al_U1CAC52     0\n",
       "sl_U1CAC52     0\n",
       "al_U1CAC53    41\n",
       "sl_U1CAC53    34\n",
       "dtype: int64"
      ]
     },
     "execution_count": 29,
     "metadata": {},
     "output_type": "execute_result"
    }
   ],
   "source": [
    "df.isnull().sum() # Checking for missing values and summing them up for each column"
   ]
  },
  {
   "cell_type": "code",
   "execution_count": null,
   "id": "409cac5d",
   "metadata": {},
   "outputs": [],
   "source": [
    "al = []#active_learners\n",
    "sl = []#slow_learners\n",
    "for i in df['U1CAC52']:\n",
    "    condition = df['U1CAC52'] >= 4.352\n",
    "    al = df.loc[condition, 'U1CAC52']\n",
    "for i in df['U1CAC52']:\n",
    "    condition = df['U1CAC52'] < 4.352\n",
    "    sl = df.loc[condition, 'U1CAC52']\n",
    "#al\n",
    "df['al_U1CAC52'] = al\n",
    "df.to_csv('III_BCA.csv', index=False)\n",
    "#sl\n",
    "df['sl_U1CAC52'] = sl\n",
    "df.to_csv('III_BCA.csv', index=False)\n",
    "df.head()"
   ]
  },
  {
   "cell_type": "code",
   "execution_count": null,
   "id": "5688d9c3",
   "metadata": {},
   "outputs": [],
   "source": [
    "df['al_U1CAC52'] = df['al_U1CAC52'].replace(np.nan, 0)\n",
    "df['sl_U1CAC52'] = df['sl_U1CAC52'].replace(np.nan, 0)"
   ]
  },
  {
   "cell_type": "code",
   "execution_count": 30,
   "id": "a6781a82",
   "metadata": {},
   "outputs": [
    {
     "data": {
      "text/html": [
       "<style type=\"text/css\">\n",
       "#T_2b401_row0_col0, #T_2b401_row0_col1, #T_2b401_row0_col2, #T_2b401_row0_col3, #T_2b401_row0_col4, #T_2b401_row0_col5, #T_2b401_row0_col6, #T_2b401_row0_col7, #T_2b401_row0_col8, #T_2b401_row0_col9, #T_2b401_row0_col10, #T_2b401_row7_col0 {\n",
       "  background-color: #ffff66;\n",
       "  color: #000000;\n",
       "}\n",
       "#T_2b401_row1_col0, #T_2b401_row5_col0 {\n",
       "  background-color: #80c066;\n",
       "  color: #000000;\n",
       "}\n",
       "#T_2b401_row1_col1, #T_2b401_row1_col2, #T_2b401_row5_col1, #T_2b401_row5_col2, #T_2b401_row6_col4 {\n",
       "  background-color: #0b8566;\n",
       "  color: #f1f1f1;\n",
       "}\n",
       "#T_2b401_row1_col3, #T_2b401_row1_col7, #T_2b401_row4_col2, #T_2b401_row5_col4, #T_2b401_row5_col8 {\n",
       "  background-color: #088466;\n",
       "  color: #f1f1f1;\n",
       "}\n",
       "#T_2b401_row1_col4, #T_2b401_row2_col7, #T_2b401_row4_col1, #T_2b401_row4_col6, #T_2b401_row6_col3 {\n",
       "  background-color: #098466;\n",
       "  color: #f1f1f1;\n",
       "}\n",
       "#T_2b401_row1_col5 {\n",
       "  background-color: #2d9666;\n",
       "  color: #f1f1f1;\n",
       "}\n",
       "#T_2b401_row1_col6, #T_2b401_row5_col6 {\n",
       "  background-color: #0a8466;\n",
       "  color: #f1f1f1;\n",
       "}\n",
       "#T_2b401_row1_col8, #T_2b401_row2_col8, #T_2b401_row4_col3, #T_2b401_row4_col4 {\n",
       "  background-color: #068266;\n",
       "  color: #f1f1f1;\n",
       "}\n",
       "#T_2b401_row1_col9, #T_2b401_row4_col5 {\n",
       "  background-color: #259266;\n",
       "  color: #f1f1f1;\n",
       "}\n",
       "#T_2b401_row1_col10, #T_2b401_row5_col10, #T_2b401_row7_col3, #T_2b401_row7_col4, #T_2b401_row7_col6 {\n",
       "  background-color: #128866;\n",
       "  color: #f1f1f1;\n",
       "}\n",
       "#T_2b401_row2_col0 {\n",
       "  background-color: #47a366;\n",
       "  color: #f1f1f1;\n",
       "}\n",
       "#T_2b401_row2_col1, #T_2b401_row2_col2, #T_2b401_row2_col3, #T_2b401_row2_col4, #T_2b401_row2_col5, #T_2b401_row2_col6, #T_2b401_row2_col9, #T_2b401_row2_col10, #T_2b401_row3_col0, #T_2b401_row3_col7, #T_2b401_row3_col8, #T_2b401_row4_col7, #T_2b401_row4_col8, #T_2b401_row5_col7 {\n",
       "  background-color: #008066;\n",
       "  color: #f1f1f1;\n",
       "}\n",
       "#T_2b401_row3_col1, #T_2b401_row3_col6 {\n",
       "  background-color: #048266;\n",
       "  color: #f1f1f1;\n",
       "}\n",
       "#T_2b401_row3_col2, #T_2b401_row3_col4 {\n",
       "  background-color: #028066;\n",
       "  color: #f1f1f1;\n",
       "}\n",
       "#T_2b401_row3_col3 {\n",
       "  background-color: #018066;\n",
       "  color: #f1f1f1;\n",
       "}\n",
       "#T_2b401_row3_col5 {\n",
       "  background-color: #118866;\n",
       "  color: #f1f1f1;\n",
       "}\n",
       "#T_2b401_row3_col9 {\n",
       "  background-color: #1e8e66;\n",
       "  color: #f1f1f1;\n",
       "}\n",
       "#T_2b401_row3_col10, #T_2b401_row5_col3 {\n",
       "  background-color: #078366;\n",
       "  color: #f1f1f1;\n",
       "}\n",
       "#T_2b401_row4_col0 {\n",
       "  background-color: #40a066;\n",
       "  color: #f1f1f1;\n",
       "}\n",
       "#T_2b401_row4_col9 {\n",
       "  background-color: #219066;\n",
       "  color: #f1f1f1;\n",
       "}\n",
       "#T_2b401_row4_col10 {\n",
       "  background-color: #0f8766;\n",
       "  color: #f1f1f1;\n",
       "}\n",
       "#T_2b401_row5_col5 {\n",
       "  background-color: #2c9666;\n",
       "  color: #f1f1f1;\n",
       "}\n",
       "#T_2b401_row5_col9 {\n",
       "  background-color: #249266;\n",
       "  color: #f1f1f1;\n",
       "}\n",
       "#T_2b401_row6_col0 {\n",
       "  background-color: #c0e066;\n",
       "  color: #000000;\n",
       "}\n",
       "#T_2b401_row6_col1 {\n",
       "  background-color: #0d8666;\n",
       "  color: #f1f1f1;\n",
       "}\n",
       "#T_2b401_row6_col2, #T_2b401_row7_col8 {\n",
       "  background-color: #0e8666;\n",
       "  color: #f1f1f1;\n",
       "}\n",
       "#T_2b401_row6_col5 {\n",
       "  background-color: #349a66;\n",
       "  color: #f1f1f1;\n",
       "}\n",
       "#T_2b401_row6_col6, #T_2b401_row6_col8 {\n",
       "  background-color: #0c8666;\n",
       "  color: #f1f1f1;\n",
       "}\n",
       "#T_2b401_row6_col7 {\n",
       "  background-color: #108866;\n",
       "  color: #f1f1f1;\n",
       "}\n",
       "#T_2b401_row6_col9 {\n",
       "  background-color: #279366;\n",
       "  color: #f1f1f1;\n",
       "}\n",
       "#T_2b401_row6_col10 {\n",
       "  background-color: #168a66;\n",
       "  color: #f1f1f1;\n",
       "}\n",
       "#T_2b401_row7_col1, #T_2b401_row7_col2 {\n",
       "  background-color: #148a66;\n",
       "  color: #f1f1f1;\n",
       "}\n",
       "#T_2b401_row7_col5 {\n",
       "  background-color: #4ba566;\n",
       "  color: #f1f1f1;\n",
       "}\n",
       "#T_2b401_row7_col7, #T_2b401_row7_col10 {\n",
       "  background-color: #178b66;\n",
       "  color: #f1f1f1;\n",
       "}\n",
       "#T_2b401_row7_col9 {\n",
       "  background-color: #329866;\n",
       "  color: #f1f1f1;\n",
       "}\n",
       "</style>\n",
       "<table id=\"T_2b401\">\n",
       "  <thead>\n",
       "    <tr>\n",
       "      <th class=\"blank level0\" >&nbsp;</th>\n",
       "      <th id=\"T_2b401_level0_col0\" class=\"col_heading level0 col0\" >id</th>\n",
       "      <th id=\"T_2b401_level0_col1\" class=\"col_heading level0 col1\" >U1CAC52</th>\n",
       "      <th id=\"T_2b401_level0_col2\" class=\"col_heading level0 col2\" >U1CAC53</th>\n",
       "      <th id=\"T_2b401_level0_col3\" class=\"col_heading level0 col3\" >U3CAC51</th>\n",
       "      <th id=\"T_2b401_level0_col4\" class=\"col_heading level0 col4\" >U3CAE51</th>\n",
       "      <th id=\"T_2b401_level0_col5\" class=\"col_heading level0 col5\" >Total</th>\n",
       "      <th id=\"T_2b401_level0_col6\" class=\"col_heading level0 col6\" >Average</th>\n",
       "      <th id=\"T_2b401_level0_col7\" class=\"col_heading level0 col7\" >al_U1CAC52</th>\n",
       "      <th id=\"T_2b401_level0_col8\" class=\"col_heading level0 col8\" >sl_U1CAC52</th>\n",
       "      <th id=\"T_2b401_level0_col9\" class=\"col_heading level0 col9\" >al_U1CAC53</th>\n",
       "      <th id=\"T_2b401_level0_col10\" class=\"col_heading level0 col10\" >sl_U1CAC53</th>\n",
       "    </tr>\n",
       "  </thead>\n",
       "  <tbody>\n",
       "    <tr>\n",
       "      <th id=\"T_2b401_level0_row0\" class=\"row_heading level0 row0\" >count</th>\n",
       "      <td id=\"T_2b401_row0_col0\" class=\"data row0 col0\" >75.000000</td>\n",
       "      <td id=\"T_2b401_row0_col1\" class=\"data row0 col1\" >75.000000</td>\n",
       "      <td id=\"T_2b401_row0_col2\" class=\"data row0 col2\" >75.000000</td>\n",
       "      <td id=\"T_2b401_row0_col3\" class=\"data row0 col3\" >75.000000</td>\n",
       "      <td id=\"T_2b401_row0_col4\" class=\"data row0 col4\" >75.000000</td>\n",
       "      <td id=\"T_2b401_row0_col5\" class=\"data row0 col5\" >75.000000</td>\n",
       "      <td id=\"T_2b401_row0_col6\" class=\"data row0 col6\" >75.000000</td>\n",
       "      <td id=\"T_2b401_row0_col7\" class=\"data row0 col7\" >75.000000</td>\n",
       "      <td id=\"T_2b401_row0_col8\" class=\"data row0 col8\" >75.000000</td>\n",
       "      <td id=\"T_2b401_row0_col9\" class=\"data row0 col9\" >34.000000</td>\n",
       "      <td id=\"T_2b401_row0_col10\" class=\"data row0 col10\" >41.000000</td>\n",
       "    </tr>\n",
       "    <tr>\n",
       "      <th id=\"T_2b401_level0_row1\" class=\"row_heading level0 row1\" >mean</th>\n",
       "      <td id=\"T_2b401_row1_col0\" class=\"data row1 col0\" >38.000000</td>\n",
       "      <td id=\"T_2b401_row1_col1\" class=\"data row1 col1\" >4.352000</td>\n",
       "      <td id=\"T_2b401_row1_col2\" class=\"data row1 col2\" >4.466667</td>\n",
       "      <td id=\"T_2b401_row1_col3\" class=\"data row1 col3\" >3.344000</td>\n",
       "      <td id=\"T_2b401_row1_col4\" class=\"data row1 col4\" >3.704000</td>\n",
       "      <td id=\"T_2b401_row1_col5\" class=\"data row1 col5\" >15.866667</td>\n",
       "      <td id=\"T_2b401_row1_col6\" class=\"data row1 col6\" >3.966667</td>\n",
       "      <td id=\"T_2b401_row1_col7\" class=\"data row1 col7\" >2.410667</td>\n",
       "      <td id=\"T_2b401_row1_col8\" class=\"data row1 col8\" >1.941333</td>\n",
       "      <td id=\"T_2b401_row1_col9\" class=\"data row1 col9\" >5.494118</td>\n",
       "      <td id=\"T_2b401_row1_col10\" class=\"data row1 col10\" >3.614634</td>\n",
       "    </tr>\n",
       "    <tr>\n",
       "      <th id=\"T_2b401_level0_row2\" class=\"row_heading level0 row2\" >std</th>\n",
       "      <td id=\"T_2b401_row2_col0\" class=\"data row2 col0\" >21.794495</td>\n",
       "      <td id=\"T_2b401_row2_col1\" class=\"data row2 col1\" >0.993405</td>\n",
       "      <td id=\"T_2b401_row2_col2\" class=\"data row2 col2\" >1.145772</td>\n",
       "      <td id=\"T_2b401_row2_col3\" class=\"data row2 col3\" >0.915075</td>\n",
       "      <td id=\"T_2b401_row2_col4\" class=\"data row2 col4\" >1.068143</td>\n",
       "      <td id=\"T_2b401_row2_col5\" class=\"data row2 col5\" >3.149145</td>\n",
       "      <td id=\"T_2b401_row2_col6\" class=\"data row2 col6\" >0.787286</td>\n",
       "      <td id=\"T_2b401_row2_col7\" class=\"data row2 col7\" >2.642049</td>\n",
       "      <td id=\"T_2b401_row2_col8\" class=\"data row2 col8\" >1.868884</td>\n",
       "      <td id=\"T_2b401_row2_col9\" class=\"data row2 col9\" >0.607499</td>\n",
       "      <td id=\"T_2b401_row2_col10\" class=\"data row2 col10\" >0.694824</td>\n",
       "    </tr>\n",
       "    <tr>\n",
       "      <th id=\"T_2b401_level0_row3\" class=\"row_heading level0 row3\" >min</th>\n",
       "      <td id=\"T_2b401_row3_col0\" class=\"data row3 col0\" >1.000000</td>\n",
       "      <td id=\"T_2b401_row3_col1\" class=\"data row3 col1\" >2.200000</td>\n",
       "      <td id=\"T_2b401_row3_col2\" class=\"data row3 col2\" >1.800000</td>\n",
       "      <td id=\"T_2b401_row3_col3\" class=\"data row3 col3\" >1.400000</td>\n",
       "      <td id=\"T_2b401_row3_col4\" class=\"data row3 col4\" >1.800000</td>\n",
       "      <td id=\"T_2b401_row3_col5\" class=\"data row3 col5\" >8.000000</td>\n",
       "      <td id=\"T_2b401_row3_col6\" class=\"data row3 col6\" >2.000000</td>\n",
       "      <td id=\"T_2b401_row3_col7\" class=\"data row3 col7\" >0.000000</td>\n",
       "      <td id=\"T_2b401_row3_col8\" class=\"data row3 col8\" >0.000000</td>\n",
       "      <td id=\"T_2b401_row3_col9\" class=\"data row3 col9\" >4.600000</td>\n",
       "      <td id=\"T_2b401_row3_col10\" class=\"data row3 col10\" >1.800000</td>\n",
       "    </tr>\n",
       "    <tr>\n",
       "      <th id=\"T_2b401_level0_row4\" class=\"row_heading level0 row4\" >25%</th>\n",
       "      <td id=\"T_2b401_row4_col0\" class=\"data row4 col0\" >19.500000</td>\n",
       "      <td id=\"T_2b401_row4_col1\" class=\"data row4 col1\" >3.800000</td>\n",
       "      <td id=\"T_2b401_row4_col2\" class=\"data row4 col2\" >3.500000</td>\n",
       "      <td id=\"T_2b401_row4_col3\" class=\"data row4 col3\" >2.800000</td>\n",
       "      <td id=\"T_2b401_row4_col4\" class=\"data row4 col4\" >3.000000</td>\n",
       "      <td id=\"T_2b401_row4_col5\" class=\"data row4 col5\" >13.700000</td>\n",
       "      <td id=\"T_2b401_row4_col6\" class=\"data row4 col6\" >3.425000</td>\n",
       "      <td id=\"T_2b401_row4_col7\" class=\"data row4 col7\" >0.000000</td>\n",
       "      <td id=\"T_2b401_row4_col8\" class=\"data row4 col8\" >0.000000</td>\n",
       "      <td id=\"T_2b401_row4_col9\" class=\"data row4 col9\" >5.000000</td>\n",
       "      <td id=\"T_2b401_row4_col10\" class=\"data row4 col10\" >3.200000</td>\n",
       "    </tr>\n",
       "    <tr>\n",
       "      <th id=\"T_2b401_level0_row5\" class=\"row_heading level0 row5\" >50%</th>\n",
       "      <td id=\"T_2b401_row5_col0\" class=\"data row5 col0\" >38.000000</td>\n",
       "      <td id=\"T_2b401_row5_col1\" class=\"data row5 col1\" >4.200000</td>\n",
       "      <td id=\"T_2b401_row5_col2\" class=\"data row5 col2\" >4.400000</td>\n",
       "      <td id=\"T_2b401_row5_col3\" class=\"data row5 col3\" >3.200000</td>\n",
       "      <td id=\"T_2b401_row5_col4\" class=\"data row5 col4\" >3.600000</td>\n",
       "      <td id=\"T_2b401_row5_col5\" class=\"data row5 col5\" >15.600000</td>\n",
       "      <td id=\"T_2b401_row5_col6\" class=\"data row5 col6\" >3.900000</td>\n",
       "      <td id=\"T_2b401_row5_col7\" class=\"data row5 col7\" >0.000000</td>\n",
       "      <td id=\"T_2b401_row5_col8\" class=\"data row5 col8\" >2.600000</td>\n",
       "      <td id=\"T_2b401_row5_col9\" class=\"data row5 col9\" >5.400000</td>\n",
       "      <td id=\"T_2b401_row5_col10\" class=\"data row5 col10\" >3.600000</td>\n",
       "    </tr>\n",
       "    <tr>\n",
       "      <th id=\"T_2b401_level0_row6\" class=\"row_heading level0 row6\" >75%</th>\n",
       "      <td id=\"T_2b401_row6_col0\" class=\"data row6 col0\" >56.500000</td>\n",
       "      <td id=\"T_2b401_row6_col1\" class=\"data row6 col1\" >4.900000</td>\n",
       "      <td id=\"T_2b401_row6_col2\" class=\"data row6 col2\" >5.400000</td>\n",
       "      <td id=\"T_2b401_row6_col3\" class=\"data row6 col3\" >3.800000</td>\n",
       "      <td id=\"T_2b401_row6_col4\" class=\"data row6 col4\" >4.300000</td>\n",
       "      <td id=\"T_2b401_row6_col5\" class=\"data row6 col5\" >17.800000</td>\n",
       "      <td id=\"T_2b401_row6_col6\" class=\"data row6 col6\" >4.450000</td>\n",
       "      <td id=\"T_2b401_row6_col7\" class=\"data row6 col7\" >4.900000</td>\n",
       "      <td id=\"T_2b401_row6_col8\" class=\"data row6 col8\" >3.800000</td>\n",
       "      <td id=\"T_2b401_row6_col9\" class=\"data row6 col9\" >5.800000</td>\n",
       "      <td id=\"T_2b401_row6_col10\" class=\"data row6 col10\" >4.200000</td>\n",
       "    </tr>\n",
       "    <tr>\n",
       "      <th id=\"T_2b401_level0_row7\" class=\"row_heading level0 row7\" >max</th>\n",
       "      <td id=\"T_2b401_row7_col0\" class=\"data row7 col0\" >75.000000</td>\n",
       "      <td id=\"T_2b401_row7_col1\" class=\"data row7 col1\" >7.000000</td>\n",
       "      <td id=\"T_2b401_row7_col2\" class=\"data row7 col2\" >7.200000</td>\n",
       "      <td id=\"T_2b401_row7_col3\" class=\"data row7 col3\" >6.200000</td>\n",
       "      <td id=\"T_2b401_row7_col4\" class=\"data row7 col4\" >6.400000</td>\n",
       "      <td id=\"T_2b401_row7_col5\" class=\"data row7 col5\" >24.200000</td>\n",
       "      <td id=\"T_2b401_row7_col6\" class=\"data row7 col6\" >6.050000</td>\n",
       "      <td id=\"T_2b401_row7_col7\" class=\"data row7 col7\" >7.000000</td>\n",
       "      <td id=\"T_2b401_row7_col8\" class=\"data row7 col8\" >4.200000</td>\n",
       "      <td id=\"T_2b401_row7_col9\" class=\"data row7 col9\" >7.200000</td>\n",
       "      <td id=\"T_2b401_row7_col10\" class=\"data row7 col10\" >4.400000</td>\n",
       "    </tr>\n",
       "  </tbody>\n",
       "</table>\n"
      ],
      "text/plain": [
       "<pandas.io.formats.style.Styler at 0x1c40c150cd0>"
      ]
     },
     "execution_count": 30,
     "metadata": {},
     "output_type": "execute_result"
    }
   ],
   "source": [
    "df.describe().style.background_gradient(cmap = \"summer\") # Display basic statistics for numeric columns"
   ]
  },
  {
   "cell_type": "code",
   "execution_count": 1,
   "id": "c32da369",
   "metadata": {},
   "outputs": [
    {
     "ename": "NameError",
     "evalue": "name 'df' is not defined",
     "output_type": "error",
     "traceback": [
      "\u001b[1;31m---------------------------------------------------------------------------\u001b[0m",
      "\u001b[1;31mNameError\u001b[0m                                 Traceback (most recent call last)",
      "Cell \u001b[1;32mIn[1], line 1\u001b[0m\n\u001b[1;32m----> 1\u001b[0m \u001b[43mdf\u001b[49m\u001b[38;5;241m.\u001b[39mgroupby([\u001b[38;5;124m'\u001b[39m\u001b[38;5;124mclass\u001b[39m\u001b[38;5;124m'\u001b[39m])[\u001b[38;5;124m'\u001b[39m\u001b[38;5;124mU1CAC52\u001b[39m\u001b[38;5;124m'\u001b[39m,\u001b[38;5;124m'\u001b[39m\u001b[38;5;124mU1CAC53\u001b[39m\u001b[38;5;124m'\u001b[39m,\u001b[38;5;124m'\u001b[39m\u001b[38;5;124mU3CAC51\u001b[39m\u001b[38;5;124m'\u001b[39m,\u001b[38;5;124m'\u001b[39m\u001b[38;5;124mU3CAE51\u001b[39m\u001b[38;5;124m'\u001b[39m]\u001b[38;5;241m.\u001b[39mmean()\u001b[38;5;241m.\u001b[39mstyle\u001b[38;5;241m.\u001b[39mbackground_gradient(\u001b[38;5;124m\"\u001b[39m\u001b[38;5;124mReds\u001b[39m\u001b[38;5;124m\"\u001b[39m)\n",
      "\u001b[1;31mNameError\u001b[0m: name 'df' is not defined"
     ]
    }
   ],
   "source": [
    "df.groupby(['class'])['U1CAC52','U1CAC53','U3CAC51','U3CAE51'].mean().style.background_gradient(\"Reds\")"
   ]
  },
  {
   "cell_type": "markdown",
   "id": "07b63937",
   "metadata": {},
   "source": [
    "# Visualize the data using Matplotlib"
   ]
  },
  {
   "cell_type": "code",
   "execution_count": 12,
   "id": "68b21bc3",
   "metadata": {},
   "outputs": [
    {
     "data": {
      "application/vnd.plotly.v1+json": {
       "config": {
        "plotlyServerURL": "https://plot.ly"
       },
       "data": [
        {
         "hovertemplate": "id=%{x}<br>U1CAC52=%{y}<extra></extra>",
         "legendgroup": "",
         "marker": {
          "color": "#F8766D",
          "symbol": "circle"
         },
         "mode": "markers",
         "name": "",
         "orientation": "v",
         "showlegend": false,
         "type": "scatter",
         "x": [
          0,
          1,
          2,
          3,
          4,
          5,
          6,
          7,
          8,
          9,
          10,
          11,
          12,
          13,
          14,
          15,
          16,
          17,
          18,
          19,
          20,
          21,
          22,
          23,
          24,
          25,
          26,
          27,
          28,
          29,
          30,
          31,
          32,
          33,
          34,
          35,
          36,
          37,
          38,
          39,
          40,
          41,
          42,
          43,
          44,
          45,
          46,
          47,
          48,
          49,
          50,
          51,
          52,
          53,
          54,
          55,
          56,
          57,
          58,
          59,
          60,
          61,
          62,
          63,
          64,
          65,
          66,
          67,
          68,
          69,
          70,
          71,
          72,
          73,
          74
         ],
         "xaxis": "x",
         "y": [
          2.2,
          4.8,
          7,
          3.8,
          4.6,
          6.8,
          5.4,
          4,
          3.4,
          5,
          2.8,
          5.2,
          4,
          4.8,
          3,
          3.8,
          3.4,
          6.6,
          4.2,
          4.4,
          5.2,
          6.2,
          6.8,
          3.8,
          4,
          3.2,
          4,
          3.2,
          3.2,
          4.6,
          3.2,
          5.2,
          4.2,
          4.2,
          5.2,
          4.2,
          4.4,
          3.6,
          4.4,
          5,
          5.8,
          3.8,
          4.4,
          2.6,
          3.2,
          3.6,
          3.8,
          5.4,
          4.2,
          4.2,
          3.8,
          4.2,
          4.2,
          4.6,
          5,
          3.8,
          4.2,
          4.8,
          5.2,
          5.6,
          4.6,
          4,
          4,
          3,
          4.4,
          4.6,
          4.8,
          3.6,
          5.4,
          5.4,
          4.6,
          3.8,
          3.8,
          4.6,
          2.4
         ],
         "yaxis": "y"
        }
       ],
       "layout": {
        "legend": {
         "tracegroupgap": 0
        },
        "margin": {
         "t": 60
        },
        "template": {
         "data": {
          "bar": [
           {
            "error_x": {
             "color": "rgb(51,51,51)"
            },
            "error_y": {
             "color": "rgb(51,51,51)"
            },
            "marker": {
             "line": {
              "color": "rgb(237,237,237)",
              "width": 0.5
             },
             "pattern": {
              "fillmode": "overlay",
              "size": 10,
              "solidity": 0.2
             }
            },
            "type": "bar"
           }
          ],
          "barpolar": [
           {
            "marker": {
             "line": {
              "color": "rgb(237,237,237)",
              "width": 0.5
             },
             "pattern": {
              "fillmode": "overlay",
              "size": 10,
              "solidity": 0.2
             }
            },
            "type": "barpolar"
           }
          ],
          "carpet": [
           {
            "aaxis": {
             "endlinecolor": "rgb(51,51,51)",
             "gridcolor": "white",
             "linecolor": "white",
             "minorgridcolor": "white",
             "startlinecolor": "rgb(51,51,51)"
            },
            "baxis": {
             "endlinecolor": "rgb(51,51,51)",
             "gridcolor": "white",
             "linecolor": "white",
             "minorgridcolor": "white",
             "startlinecolor": "rgb(51,51,51)"
            },
            "type": "carpet"
           }
          ],
          "choropleth": [
           {
            "colorbar": {
             "outlinewidth": 0,
             "tickcolor": "rgb(237,237,237)",
             "ticklen": 6,
             "ticks": "inside"
            },
            "type": "choropleth"
           }
          ],
          "contour": [
           {
            "colorbar": {
             "outlinewidth": 0,
             "tickcolor": "rgb(237,237,237)",
             "ticklen": 6,
             "ticks": "inside"
            },
            "colorscale": [
             [
              0,
              "rgb(20,44,66)"
             ],
             [
              1,
              "rgb(90,179,244)"
             ]
            ],
            "type": "contour"
           }
          ],
          "contourcarpet": [
           {
            "colorbar": {
             "outlinewidth": 0,
             "tickcolor": "rgb(237,237,237)",
             "ticklen": 6,
             "ticks": "inside"
            },
            "type": "contourcarpet"
           }
          ],
          "heatmap": [
           {
            "colorbar": {
             "outlinewidth": 0,
             "tickcolor": "rgb(237,237,237)",
             "ticklen": 6,
             "ticks": "inside"
            },
            "colorscale": [
             [
              0,
              "rgb(20,44,66)"
             ],
             [
              1,
              "rgb(90,179,244)"
             ]
            ],
            "type": "heatmap"
           }
          ],
          "heatmapgl": [
           {
            "colorbar": {
             "outlinewidth": 0,
             "tickcolor": "rgb(237,237,237)",
             "ticklen": 6,
             "ticks": "inside"
            },
            "colorscale": [
             [
              0,
              "rgb(20,44,66)"
             ],
             [
              1,
              "rgb(90,179,244)"
             ]
            ],
            "type": "heatmapgl"
           }
          ],
          "histogram": [
           {
            "marker": {
             "pattern": {
              "fillmode": "overlay",
              "size": 10,
              "solidity": 0.2
             }
            },
            "type": "histogram"
           }
          ],
          "histogram2d": [
           {
            "colorbar": {
             "outlinewidth": 0,
             "tickcolor": "rgb(237,237,237)",
             "ticklen": 6,
             "ticks": "inside"
            },
            "colorscale": [
             [
              0,
              "rgb(20,44,66)"
             ],
             [
              1,
              "rgb(90,179,244)"
             ]
            ],
            "type": "histogram2d"
           }
          ],
          "histogram2dcontour": [
           {
            "colorbar": {
             "outlinewidth": 0,
             "tickcolor": "rgb(237,237,237)",
             "ticklen": 6,
             "ticks": "inside"
            },
            "colorscale": [
             [
              0,
              "rgb(20,44,66)"
             ],
             [
              1,
              "rgb(90,179,244)"
             ]
            ],
            "type": "histogram2dcontour"
           }
          ],
          "mesh3d": [
           {
            "colorbar": {
             "outlinewidth": 0,
             "tickcolor": "rgb(237,237,237)",
             "ticklen": 6,
             "ticks": "inside"
            },
            "type": "mesh3d"
           }
          ],
          "parcoords": [
           {
            "line": {
             "colorbar": {
              "outlinewidth": 0,
              "tickcolor": "rgb(237,237,237)",
              "ticklen": 6,
              "ticks": "inside"
             }
            },
            "type": "parcoords"
           }
          ],
          "pie": [
           {
            "automargin": true,
            "type": "pie"
           }
          ],
          "scatter": [
           {
            "fillpattern": {
             "fillmode": "overlay",
             "size": 10,
             "solidity": 0.2
            },
            "type": "scatter"
           }
          ],
          "scatter3d": [
           {
            "line": {
             "colorbar": {
              "outlinewidth": 0,
              "tickcolor": "rgb(237,237,237)",
              "ticklen": 6,
              "ticks": "inside"
             }
            },
            "marker": {
             "colorbar": {
              "outlinewidth": 0,
              "tickcolor": "rgb(237,237,237)",
              "ticklen": 6,
              "ticks": "inside"
             }
            },
            "type": "scatter3d"
           }
          ],
          "scattercarpet": [
           {
            "marker": {
             "colorbar": {
              "outlinewidth": 0,
              "tickcolor": "rgb(237,237,237)",
              "ticklen": 6,
              "ticks": "inside"
             }
            },
            "type": "scattercarpet"
           }
          ],
          "scattergeo": [
           {
            "marker": {
             "colorbar": {
              "outlinewidth": 0,
              "tickcolor": "rgb(237,237,237)",
              "ticklen": 6,
              "ticks": "inside"
             }
            },
            "type": "scattergeo"
           }
          ],
          "scattergl": [
           {
            "marker": {
             "colorbar": {
              "outlinewidth": 0,
              "tickcolor": "rgb(237,237,237)",
              "ticklen": 6,
              "ticks": "inside"
             }
            },
            "type": "scattergl"
           }
          ],
          "scattermapbox": [
           {
            "marker": {
             "colorbar": {
              "outlinewidth": 0,
              "tickcolor": "rgb(237,237,237)",
              "ticklen": 6,
              "ticks": "inside"
             }
            },
            "type": "scattermapbox"
           }
          ],
          "scatterpolar": [
           {
            "marker": {
             "colorbar": {
              "outlinewidth": 0,
              "tickcolor": "rgb(237,237,237)",
              "ticklen": 6,
              "ticks": "inside"
             }
            },
            "type": "scatterpolar"
           }
          ],
          "scatterpolargl": [
           {
            "marker": {
             "colorbar": {
              "outlinewidth": 0,
              "tickcolor": "rgb(237,237,237)",
              "ticklen": 6,
              "ticks": "inside"
             }
            },
            "type": "scatterpolargl"
           }
          ],
          "scatterternary": [
           {
            "marker": {
             "colorbar": {
              "outlinewidth": 0,
              "tickcolor": "rgb(237,237,237)",
              "ticklen": 6,
              "ticks": "inside"
             }
            },
            "type": "scatterternary"
           }
          ],
          "surface": [
           {
            "colorbar": {
             "outlinewidth": 0,
             "tickcolor": "rgb(237,237,237)",
             "ticklen": 6,
             "ticks": "inside"
            },
            "colorscale": [
             [
              0,
              "rgb(20,44,66)"
             ],
             [
              1,
              "rgb(90,179,244)"
             ]
            ],
            "type": "surface"
           }
          ],
          "table": [
           {
            "cells": {
             "fill": {
              "color": "rgb(237,237,237)"
             },
             "line": {
              "color": "white"
             }
            },
            "header": {
             "fill": {
              "color": "rgb(217,217,217)"
             },
             "line": {
              "color": "white"
             }
            },
            "type": "table"
           }
          ]
         },
         "layout": {
          "annotationdefaults": {
           "arrowhead": 0,
           "arrowwidth": 1
          },
          "autotypenumbers": "strict",
          "coloraxis": {
           "colorbar": {
            "outlinewidth": 0,
            "tickcolor": "rgb(237,237,237)",
            "ticklen": 6,
            "ticks": "inside"
           }
          },
          "colorscale": {
           "sequential": [
            [
             0,
             "rgb(20,44,66)"
            ],
            [
             1,
             "rgb(90,179,244)"
            ]
           ],
           "sequentialminus": [
            [
             0,
             "rgb(20,44,66)"
            ],
            [
             1,
             "rgb(90,179,244)"
            ]
           ]
          },
          "colorway": [
           "#F8766D",
           "#A3A500",
           "#00BF7D",
           "#00B0F6",
           "#E76BF3"
          ],
          "font": {
           "color": "rgb(51,51,51)"
          },
          "geo": {
           "bgcolor": "white",
           "lakecolor": "white",
           "landcolor": "rgb(237,237,237)",
           "showlakes": true,
           "showland": true,
           "subunitcolor": "white"
          },
          "hoverlabel": {
           "align": "left"
          },
          "hovermode": "closest",
          "paper_bgcolor": "white",
          "plot_bgcolor": "rgb(237,237,237)",
          "polar": {
           "angularaxis": {
            "gridcolor": "white",
            "linecolor": "white",
            "showgrid": true,
            "tickcolor": "rgb(51,51,51)",
            "ticks": "outside"
           },
           "bgcolor": "rgb(237,237,237)",
           "radialaxis": {
            "gridcolor": "white",
            "linecolor": "white",
            "showgrid": true,
            "tickcolor": "rgb(51,51,51)",
            "ticks": "outside"
           }
          },
          "scene": {
           "xaxis": {
            "backgroundcolor": "rgb(237,237,237)",
            "gridcolor": "white",
            "gridwidth": 2,
            "linecolor": "white",
            "showbackground": true,
            "showgrid": true,
            "tickcolor": "rgb(51,51,51)",
            "ticks": "outside",
            "zerolinecolor": "white"
           },
           "yaxis": {
            "backgroundcolor": "rgb(237,237,237)",
            "gridcolor": "white",
            "gridwidth": 2,
            "linecolor": "white",
            "showbackground": true,
            "showgrid": true,
            "tickcolor": "rgb(51,51,51)",
            "ticks": "outside",
            "zerolinecolor": "white"
           },
           "zaxis": {
            "backgroundcolor": "rgb(237,237,237)",
            "gridcolor": "white",
            "gridwidth": 2,
            "linecolor": "white",
            "showbackground": true,
            "showgrid": true,
            "tickcolor": "rgb(51,51,51)",
            "ticks": "outside",
            "zerolinecolor": "white"
           }
          },
          "shapedefaults": {
           "fillcolor": "black",
           "line": {
            "width": 0
           },
           "opacity": 0.3
          },
          "ternary": {
           "aaxis": {
            "gridcolor": "white",
            "linecolor": "white",
            "showgrid": true,
            "tickcolor": "rgb(51,51,51)",
            "ticks": "outside"
           },
           "baxis": {
            "gridcolor": "white",
            "linecolor": "white",
            "showgrid": true,
            "tickcolor": "rgb(51,51,51)",
            "ticks": "outside"
           },
           "bgcolor": "rgb(237,237,237)",
           "caxis": {
            "gridcolor": "white",
            "linecolor": "white",
            "showgrid": true,
            "tickcolor": "rgb(51,51,51)",
            "ticks": "outside"
           }
          },
          "xaxis": {
           "automargin": true,
           "gridcolor": "white",
           "linecolor": "white",
           "showgrid": true,
           "tickcolor": "rgb(51,51,51)",
           "ticks": "outside",
           "title": {
            "standoff": 15
           },
           "zerolinecolor": "white"
          },
          "yaxis": {
           "automargin": true,
           "gridcolor": "white",
           "linecolor": "white",
           "showgrid": true,
           "tickcolor": "rgb(51,51,51)",
           "ticks": "outside",
           "title": {
            "standoff": 15
           },
           "zerolinecolor": "white"
          }
         }
        },
        "title": {
         "text": "Distribution of U1CAC52 Mark"
        },
        "xaxis": {
         "anchor": "y",
         "domain": [
          0,
          1
         ],
         "title": {
          "text": "id"
         }
        },
        "yaxis": {
         "anchor": "x",
         "domain": [
          0,
          1
         ],
         "title": {
          "text": "U1CAC52"
         }
        }
       }
      },
      "text/html": [
       "<div>                            <div id=\"4e25ccf0-60f5-4f51-82b6-1321bc064058\" class=\"plotly-graph-div\" style=\"height:525px; width:100%;\"></div>            <script type=\"text/javascript\">                require([\"plotly\"], function(Plotly) {                    window.PLOTLYENV=window.PLOTLYENV || {};                                    if (document.getElementById(\"4e25ccf0-60f5-4f51-82b6-1321bc064058\")) {                    Plotly.newPlot(                        \"4e25ccf0-60f5-4f51-82b6-1321bc064058\",                        [{\"hovertemplate\":\"id=%{x}<br>U1CAC52=%{y}<extra></extra>\",\"legendgroup\":\"\",\"marker\":{\"color\":\"#F8766D\",\"symbol\":\"circle\"},\"mode\":\"markers\",\"name\":\"\",\"orientation\":\"v\",\"showlegend\":false,\"x\":[0,1,2,3,4,5,6,7,8,9,10,11,12,13,14,15,16,17,18,19,20,21,22,23,24,25,26,27,28,29,30,31,32,33,34,35,36,37,38,39,40,41,42,43,44,45,46,47,48,49,50,51,52,53,54,55,56,57,58,59,60,61,62,63,64,65,66,67,68,69,70,71,72,73,74],\"xaxis\":\"x\",\"y\":[2.2,4.8,7.0,3.8,4.6,6.8,5.4,4.0,3.4,5.0,2.8,5.2,4.0,4.8,3.0,3.8,3.4,6.6,4.2,4.4,5.2,6.2,6.8,3.8,4.0,3.2,4.0,3.2,3.2,4.6,3.2,5.2,4.2,4.2,5.2,4.2,4.4,3.6,4.4,5.0,5.8,3.8,4.4,2.6,3.2,3.6,3.8,5.4,4.2,4.2,3.8,4.2,4.2,4.6,5.0,3.8,4.2,4.8,5.2,5.6,4.6,4.0,4.0,3.0,4.4,4.6,4.8,3.6,5.4,5.4,4.6,3.8,3.8,4.6,2.4],\"yaxis\":\"y\",\"type\":\"scatter\"}],                        {\"template\":{\"data\":{\"barpolar\":[{\"marker\":{\"line\":{\"color\":\"rgb(237,237,237)\",\"width\":0.5},\"pattern\":{\"fillmode\":\"overlay\",\"size\":10,\"solidity\":0.2}},\"type\":\"barpolar\"}],\"bar\":[{\"error_x\":{\"color\":\"rgb(51,51,51)\"},\"error_y\":{\"color\":\"rgb(51,51,51)\"},\"marker\":{\"line\":{\"color\":\"rgb(237,237,237)\",\"width\":0.5},\"pattern\":{\"fillmode\":\"overlay\",\"size\":10,\"solidity\":0.2}},\"type\":\"bar\"}],\"carpet\":[{\"aaxis\":{\"endlinecolor\":\"rgb(51,51,51)\",\"gridcolor\":\"white\",\"linecolor\":\"white\",\"minorgridcolor\":\"white\",\"startlinecolor\":\"rgb(51,51,51)\"},\"baxis\":{\"endlinecolor\":\"rgb(51,51,51)\",\"gridcolor\":\"white\",\"linecolor\":\"white\",\"minorgridcolor\":\"white\",\"startlinecolor\":\"rgb(51,51,51)\"},\"type\":\"carpet\"}],\"choropleth\":[{\"colorbar\":{\"outlinewidth\":0,\"tickcolor\":\"rgb(237,237,237)\",\"ticklen\":6,\"ticks\":\"inside\"},\"type\":\"choropleth\"}],\"contourcarpet\":[{\"colorbar\":{\"outlinewidth\":0,\"tickcolor\":\"rgb(237,237,237)\",\"ticklen\":6,\"ticks\":\"inside\"},\"type\":\"contourcarpet\"}],\"contour\":[{\"colorbar\":{\"outlinewidth\":0,\"tickcolor\":\"rgb(237,237,237)\",\"ticklen\":6,\"ticks\":\"inside\"},\"colorscale\":[[0,\"rgb(20,44,66)\"],[1,\"rgb(90,179,244)\"]],\"type\":\"contour\"}],\"heatmapgl\":[{\"colorbar\":{\"outlinewidth\":0,\"tickcolor\":\"rgb(237,237,237)\",\"ticklen\":6,\"ticks\":\"inside\"},\"colorscale\":[[0,\"rgb(20,44,66)\"],[1,\"rgb(90,179,244)\"]],\"type\":\"heatmapgl\"}],\"heatmap\":[{\"colorbar\":{\"outlinewidth\":0,\"tickcolor\":\"rgb(237,237,237)\",\"ticklen\":6,\"ticks\":\"inside\"},\"colorscale\":[[0,\"rgb(20,44,66)\"],[1,\"rgb(90,179,244)\"]],\"type\":\"heatmap\"}],\"histogram2dcontour\":[{\"colorbar\":{\"outlinewidth\":0,\"tickcolor\":\"rgb(237,237,237)\",\"ticklen\":6,\"ticks\":\"inside\"},\"colorscale\":[[0,\"rgb(20,44,66)\"],[1,\"rgb(90,179,244)\"]],\"type\":\"histogram2dcontour\"}],\"histogram2d\":[{\"colorbar\":{\"outlinewidth\":0,\"tickcolor\":\"rgb(237,237,237)\",\"ticklen\":6,\"ticks\":\"inside\"},\"colorscale\":[[0,\"rgb(20,44,66)\"],[1,\"rgb(90,179,244)\"]],\"type\":\"histogram2d\"}],\"histogram\":[{\"marker\":{\"pattern\":{\"fillmode\":\"overlay\",\"size\":10,\"solidity\":0.2}},\"type\":\"histogram\"}],\"mesh3d\":[{\"colorbar\":{\"outlinewidth\":0,\"tickcolor\":\"rgb(237,237,237)\",\"ticklen\":6,\"ticks\":\"inside\"},\"type\":\"mesh3d\"}],\"parcoords\":[{\"line\":{\"colorbar\":{\"outlinewidth\":0,\"tickcolor\":\"rgb(237,237,237)\",\"ticklen\":6,\"ticks\":\"inside\"}},\"type\":\"parcoords\"}],\"pie\":[{\"automargin\":true,\"type\":\"pie\"}],\"scatter3d\":[{\"line\":{\"colorbar\":{\"outlinewidth\":0,\"tickcolor\":\"rgb(237,237,237)\",\"ticklen\":6,\"ticks\":\"inside\"}},\"marker\":{\"colorbar\":{\"outlinewidth\":0,\"tickcolor\":\"rgb(237,237,237)\",\"ticklen\":6,\"ticks\":\"inside\"}},\"type\":\"scatter3d\"}],\"scattercarpet\":[{\"marker\":{\"colorbar\":{\"outlinewidth\":0,\"tickcolor\":\"rgb(237,237,237)\",\"ticklen\":6,\"ticks\":\"inside\"}},\"type\":\"scattercarpet\"}],\"scattergeo\":[{\"marker\":{\"colorbar\":{\"outlinewidth\":0,\"tickcolor\":\"rgb(237,237,237)\",\"ticklen\":6,\"ticks\":\"inside\"}},\"type\":\"scattergeo\"}],\"scattergl\":[{\"marker\":{\"colorbar\":{\"outlinewidth\":0,\"tickcolor\":\"rgb(237,237,237)\",\"ticklen\":6,\"ticks\":\"inside\"}},\"type\":\"scattergl\"}],\"scattermapbox\":[{\"marker\":{\"colorbar\":{\"outlinewidth\":0,\"tickcolor\":\"rgb(237,237,237)\",\"ticklen\":6,\"ticks\":\"inside\"}},\"type\":\"scattermapbox\"}],\"scatterpolargl\":[{\"marker\":{\"colorbar\":{\"outlinewidth\":0,\"tickcolor\":\"rgb(237,237,237)\",\"ticklen\":6,\"ticks\":\"inside\"}},\"type\":\"scatterpolargl\"}],\"scatterpolar\":[{\"marker\":{\"colorbar\":{\"outlinewidth\":0,\"tickcolor\":\"rgb(237,237,237)\",\"ticklen\":6,\"ticks\":\"inside\"}},\"type\":\"scatterpolar\"}],\"scatter\":[{\"fillpattern\":{\"fillmode\":\"overlay\",\"size\":10,\"solidity\":0.2},\"type\":\"scatter\"}],\"scatterternary\":[{\"marker\":{\"colorbar\":{\"outlinewidth\":0,\"tickcolor\":\"rgb(237,237,237)\",\"ticklen\":6,\"ticks\":\"inside\"}},\"type\":\"scatterternary\"}],\"surface\":[{\"colorbar\":{\"outlinewidth\":0,\"tickcolor\":\"rgb(237,237,237)\",\"ticklen\":6,\"ticks\":\"inside\"},\"colorscale\":[[0,\"rgb(20,44,66)\"],[1,\"rgb(90,179,244)\"]],\"type\":\"surface\"}],\"table\":[{\"cells\":{\"fill\":{\"color\":\"rgb(237,237,237)\"},\"line\":{\"color\":\"white\"}},\"header\":{\"fill\":{\"color\":\"rgb(217,217,217)\"},\"line\":{\"color\":\"white\"}},\"type\":\"table\"}]},\"layout\":{\"annotationdefaults\":{\"arrowhead\":0,\"arrowwidth\":1},\"autotypenumbers\":\"strict\",\"coloraxis\":{\"colorbar\":{\"outlinewidth\":0,\"tickcolor\":\"rgb(237,237,237)\",\"ticklen\":6,\"ticks\":\"inside\"}},\"colorscale\":{\"sequential\":[[0,\"rgb(20,44,66)\"],[1,\"rgb(90,179,244)\"]],\"sequentialminus\":[[0,\"rgb(20,44,66)\"],[1,\"rgb(90,179,244)\"]]},\"colorway\":[\"#F8766D\",\"#A3A500\",\"#00BF7D\",\"#00B0F6\",\"#E76BF3\"],\"font\":{\"color\":\"rgb(51,51,51)\"},\"geo\":{\"bgcolor\":\"white\",\"lakecolor\":\"white\",\"landcolor\":\"rgb(237,237,237)\",\"showlakes\":true,\"showland\":true,\"subunitcolor\":\"white\"},\"hoverlabel\":{\"align\":\"left\"},\"hovermode\":\"closest\",\"paper_bgcolor\":\"white\",\"plot_bgcolor\":\"rgb(237,237,237)\",\"polar\":{\"angularaxis\":{\"gridcolor\":\"white\",\"linecolor\":\"white\",\"showgrid\":true,\"tickcolor\":\"rgb(51,51,51)\",\"ticks\":\"outside\"},\"bgcolor\":\"rgb(237,237,237)\",\"radialaxis\":{\"gridcolor\":\"white\",\"linecolor\":\"white\",\"showgrid\":true,\"tickcolor\":\"rgb(51,51,51)\",\"ticks\":\"outside\"}},\"scene\":{\"xaxis\":{\"backgroundcolor\":\"rgb(237,237,237)\",\"gridcolor\":\"white\",\"gridwidth\":2,\"linecolor\":\"white\",\"showbackground\":true,\"showgrid\":true,\"tickcolor\":\"rgb(51,51,51)\",\"ticks\":\"outside\",\"zerolinecolor\":\"white\"},\"yaxis\":{\"backgroundcolor\":\"rgb(237,237,237)\",\"gridcolor\":\"white\",\"gridwidth\":2,\"linecolor\":\"white\",\"showbackground\":true,\"showgrid\":true,\"tickcolor\":\"rgb(51,51,51)\",\"ticks\":\"outside\",\"zerolinecolor\":\"white\"},\"zaxis\":{\"backgroundcolor\":\"rgb(237,237,237)\",\"gridcolor\":\"white\",\"gridwidth\":2,\"linecolor\":\"white\",\"showbackground\":true,\"showgrid\":true,\"tickcolor\":\"rgb(51,51,51)\",\"ticks\":\"outside\",\"zerolinecolor\":\"white\"}},\"shapedefaults\":{\"fillcolor\":\"black\",\"line\":{\"width\":0},\"opacity\":0.3},\"ternary\":{\"aaxis\":{\"gridcolor\":\"white\",\"linecolor\":\"white\",\"showgrid\":true,\"tickcolor\":\"rgb(51,51,51)\",\"ticks\":\"outside\"},\"baxis\":{\"gridcolor\":\"white\",\"linecolor\":\"white\",\"showgrid\":true,\"tickcolor\":\"rgb(51,51,51)\",\"ticks\":\"outside\"},\"bgcolor\":\"rgb(237,237,237)\",\"caxis\":{\"gridcolor\":\"white\",\"linecolor\":\"white\",\"showgrid\":true,\"tickcolor\":\"rgb(51,51,51)\",\"ticks\":\"outside\"}},\"xaxis\":{\"automargin\":true,\"gridcolor\":\"white\",\"linecolor\":\"white\",\"showgrid\":true,\"tickcolor\":\"rgb(51,51,51)\",\"ticks\":\"outside\",\"title\":{\"standoff\":15},\"zerolinecolor\":\"white\"},\"yaxis\":{\"automargin\":true,\"gridcolor\":\"white\",\"linecolor\":\"white\",\"showgrid\":true,\"tickcolor\":\"rgb(51,51,51)\",\"ticks\":\"outside\",\"title\":{\"standoff\":15},\"zerolinecolor\":\"white\"}}},\"xaxis\":{\"anchor\":\"y\",\"domain\":[0.0,1.0],\"title\":{\"text\":\"id\"}},\"yaxis\":{\"anchor\":\"x\",\"domain\":[0.0,1.0],\"title\":{\"text\":\"U1CAC52\"}},\"legend\":{\"tracegroupgap\":0},\"margin\":{\"t\":60},\"title\":{\"text\":\"Distribution of U1CAC52 Mark\"}},                        {\"responsive\": true}                    ).then(function(){\n",
       "                            \n",
       "var gd = document.getElementById('4e25ccf0-60f5-4f51-82b6-1321bc064058');\n",
       "var x = new MutationObserver(function (mutations, observer) {{\n",
       "        var display = window.getComputedStyle(gd).display;\n",
       "        if (!display || display === 'none') {{\n",
       "            console.log([gd, 'removed!']);\n",
       "            Plotly.purge(gd);\n",
       "            observer.disconnect();\n",
       "        }}\n",
       "}});\n",
       "\n",
       "// Listen for the removal of the full notebook cells\n",
       "var notebookContainer = gd.closest('#notebook-container');\n",
       "if (notebookContainer) {{\n",
       "    x.observe(notebookContainer, {childList: true});\n",
       "}}\n",
       "\n",
       "// Listen for the clearing of the current output cell\n",
       "var outputEl = gd.closest('.output');\n",
       "if (outputEl) {{\n",
       "    x.observe(outputEl, {childList: true});\n",
       "}}\n",
       "\n",
       "                        })                };                });            </script>        </div>"
      ]
     },
     "metadata": {},
     "output_type": "display_data"
    }
   ],
   "source": [
    "#U1CAC52\n",
    "import plotly.express as px\n",
    "x = range(len(df[\"U1CAC52\"])) \n",
    "y = df[\"U1CAC52\"] \n",
    "fig = px.scatter(df, x,y,labels={\"x\": \"id\"},template=\"ggplot2\")\n",
    "fig.update_layout(title=\"Distribution of U1CAC52 Mark\")\n",
    "fig.show()\n"
   ]
  },
  {
   "cell_type": "markdown",
   "id": "48dcefd2",
   "metadata": {},
   "source": [
    "# Grouping the students based on the U1CAC52 mark (find the mean value and compare it with the mark, then store it individually)."
   ]
  },
  {
   "cell_type": "code",
   "execution_count": 40,
   "id": "30b55fdc",
   "metadata": {},
   "outputs": [
    {
     "data": {
      "image/png": "[encoded data removed]",
      "text/plain": [
       "<Figure size 640x480 with 1 Axes>"
      ]
     },
     "metadata": {},
     "output_type": "display_data"
    }
   ],
   "source": [
    "import matplotlib.pyplot as plt\n",
    "import pandas as pd\n",
    "df = pd.read_csv(\"III_BCA.csv\")\n",
    "al = []#active_learners\n",
    "sl = []#slow_learners\n",
    "for i in df['U1CAC52']:\n",
    "    condition = df['U1CAC52'] >= 4.352\n",
    "    al = df.loc[condition, 'U1CAC52']\n",
    "for i in df['U1CAC52']:\n",
    "    condition = df['U1CAC52'] < 4.352\n",
    "    sl = df.loc[condition, 'U1CAC52']\n",
    "#plt.ylim(0, 10)\n",
    "plt.yticks([0,1,2,3,4,5,6,7,8,9,10])\n",
    "plt.plot(al, label='Active_learners')\n",
    "plt.plot(sl,label='Slow_learners')\n",
    "plt.ylim(0, 10)\n",
    "plt.title(\"Plot for U1CAC52\")\n",
    "plt.xlabel('No.of.Students')\n",
    "plt.ylabel('Mark')\n",
    "plt.legend()\n",
    "plt.show()"
   ]
  },
  {
   "cell_type": "code",
   "execution_count": 49,
   "id": "2a4d0bae",
   "metadata": {},
   "outputs": [
    {
     "name": "stderr",
     "output_type": "stream",
     "text": [
      "C:\\Users\\ELCOT\\anaconda3\\lib\\site-packages\\sklearn\\cluster\\_kmeans.py:870: FutureWarning:\n",
      "\n",
      "The default value of `n_init` will change from 10 to 'auto' in 1.4. Set the value of `n_init` explicitly to suppress the warning\n",
      "\n",
      "C:\\Users\\ELCOT\\anaconda3\\lib\\site-packages\\sklearn\\cluster\\_kmeans.py:1382: UserWarning:\n",
      "\n",
      "KMeans is known to have a memory leak on Windows with MKL, when there are less chunks than available threads. You can avoid it by setting the environment variable OMP_NUM_THREADS=1.\n",
      "\n"
     ]
    },
    {
     "data": {
      "image/png": "[encoded data removed]",
      "text/plain": [
       "<Figure size 640x480 with 1 Axes>"
      ]
     },
     "metadata": {},
     "output_type": "display_data"
    }
   ],
   "source": [
    "k = 2\n",
    "features = df[['al_U1CAC52', 'sl_U1CAC52']]\n",
    "kmeans = KMeans(n_clusters=k, random_state=42)\n",
    "df['Cluster'] = kmeans.fit_predict(features)\n",
    "# Scatter plot of the clusters\n",
    "plt.scatter(df['al_U1CAC52'], df['sl_U1CAC52'], c=df['Cluster'], cmap='rainbow', alpha=0.5, edgecolors='k')\n",
    "plt.scatter(kmeans.cluster_centers_[:, 0], kmeans.cluster_centers_[:, 1], s=300, c='red', marker='X', label='Centroids')\n",
    "plt.title(f'Clustering for U1CAC52 ')\n",
    "plt.xlabel('Active_Learners')\n",
    "plt.ylabel('Slow_Learners')\n",
    "plt.legend()\n",
    "plt.show()\n"
   ]
  },
  {
   "cell_type": "code",
   "execution_count": 20,
   "id": "90117baf",
   "metadata": {},
   "outputs": [
    {
     "data": {
      "text/html": [
       "<div>\n",
       "<style scoped>\n",
       "    .dataframe tbody tr th:only-of-type {\n",
       "        vertical-align: middle;\n",
       "    }\n",
       "\n",
       "    .dataframe tbody tr th {\n",
       "        vertical-align: top;\n",
       "    }\n",
       "\n",
       "    .dataframe thead th {\n",
       "        text-align: right;\n",
       "    }\n",
       "</style>\n",
       "<table border=\"1\" class=\"dataframe\">\n",
       "  <thead>\n",
       "    <tr style=\"text-align: right;\">\n",
       "      <th></th>\n",
       "      <th>id</th>\n",
       "      <th>regno</th>\n",
       "      <th>name</th>\n",
       "      <th>class</th>\n",
       "      <th>U1CAC52</th>\n",
       "      <th>U1CAC53</th>\n",
       "      <th>U3CAC51</th>\n",
       "      <th>U3CAE51</th>\n",
       "      <th>Total</th>\n",
       "      <th>Average</th>\n",
       "      <th>Target</th>\n",
       "      <th>al_U1CAC52</th>\n",
       "      <th>sl_U1CAC52</th>\n",
       "      <th>al_U1CAC53</th>\n",
       "      <th>sl_U1CAC53</th>\n",
       "    </tr>\n",
       "  </thead>\n",
       "  <tbody>\n",
       "    <tr>\n",
       "      <th>0</th>\n",
       "      <td>1.0</td>\n",
       "      <td>20suca001</td>\n",
       "      <td>ANISHA BERNETH M</td>\n",
       "      <td>B.C.A (SELF)</td>\n",
       "      <td>2.2</td>\n",
       "      <td>2.0</td>\n",
       "      <td>2.0</td>\n",
       "      <td>1.8</td>\n",
       "      <td>8.0</td>\n",
       "      <td>2.00</td>\n",
       "      <td>active</td>\n",
       "      <td>0.0</td>\n",
       "      <td>2.2</td>\n",
       "      <td>NaN</td>\n",
       "      <td>2.0</td>\n",
       "    </tr>\n",
       "    <tr>\n",
       "      <th>1</th>\n",
       "      <td>2.0</td>\n",
       "      <td>20suca002</td>\n",
       "      <td>GAYATHIRI K</td>\n",
       "      <td>B.C.A (SELF)</td>\n",
       "      <td>4.8</td>\n",
       "      <td>4.4</td>\n",
       "      <td>3.8</td>\n",
       "      <td>2.2</td>\n",
       "      <td>15.2</td>\n",
       "      <td>3.80</td>\n",
       "      <td>active</td>\n",
       "      <td>4.8</td>\n",
       "      <td>0.0</td>\n",
       "      <td>NaN</td>\n",
       "      <td>4.4</td>\n",
       "    </tr>\n",
       "    <tr>\n",
       "      <th>2</th>\n",
       "      <td>3.0</td>\n",
       "      <td>20suca003</td>\n",
       "      <td>KALAISELVI S</td>\n",
       "      <td>B.C.A (SELF)</td>\n",
       "      <td>7.0</td>\n",
       "      <td>6.0</td>\n",
       "      <td>5.4</td>\n",
       "      <td>4.2</td>\n",
       "      <td>22.6</td>\n",
       "      <td>5.65</td>\n",
       "      <td>active</td>\n",
       "      <td>7.0</td>\n",
       "      <td>0.0</td>\n",
       "      <td>6.0</td>\n",
       "      <td>NaN</td>\n",
       "    </tr>\n",
       "    <tr>\n",
       "      <th>3</th>\n",
       "      <td>4.0</td>\n",
       "      <td>20suca004</td>\n",
       "      <td>NAGARANI K</td>\n",
       "      <td>B.C.A (SELF)</td>\n",
       "      <td>3.8</td>\n",
       "      <td>1.8</td>\n",
       "      <td>3.8</td>\n",
       "      <td>3.2</td>\n",
       "      <td>12.6</td>\n",
       "      <td>3.15</td>\n",
       "      <td>active</td>\n",
       "      <td>0.0</td>\n",
       "      <td>3.8</td>\n",
       "      <td>NaN</td>\n",
       "      <td>1.8</td>\n",
       "    </tr>\n",
       "    <tr>\n",
       "      <th>4</th>\n",
       "      <td>5.0</td>\n",
       "      <td>20suca005</td>\n",
       "      <td>PATHRAKALI K</td>\n",
       "      <td>B.C.A (SELF)</td>\n",
       "      <td>4.6</td>\n",
       "      <td>3.4</td>\n",
       "      <td>4.0</td>\n",
       "      <td>3.8</td>\n",
       "      <td>15.8</td>\n",
       "      <td>3.95</td>\n",
       "      <td>active</td>\n",
       "      <td>4.6</td>\n",
       "      <td>0.0</td>\n",
       "      <td>NaN</td>\n",
       "      <td>3.4</td>\n",
       "    </tr>\n",
       "  </tbody>\n",
       "</table>\n",
       "</div>"
      ],
      "text/plain": [
       "    id      regno              name         class  U1CAC52  U1CAC53  U3CAC51  \\\n",
       "0  1.0  20suca001  ANISHA BERNETH M  B.C.A (SELF)      2.2      2.0      2.0   \n",
       "1  2.0  20suca002       GAYATHIRI K  B.C.A (SELF)      4.8      4.4      3.8   \n",
       "2  3.0  20suca003      KALAISELVI S  B.C.A (SELF)      7.0      6.0      5.4   \n",
       "3  4.0  20suca004        NAGARANI K  B.C.A (SELF)      3.8      1.8      3.8   \n",
       "4  5.0  20suca005      PATHRAKALI K  B.C.A (SELF)      4.6      3.4      4.0   \n",
       "\n",
       "   U3CAE51  Total  Average  Target  al_U1CAC52  sl_U1CAC52  al_U1CAC53  \\\n",
       "0      1.8    8.0     2.00  active         0.0         2.2         NaN   \n",
       "1      2.2   15.2     3.80  active         4.8         0.0         NaN   \n",
       "2      4.2   22.6     5.65  active         7.0         0.0         6.0   \n",
       "3      3.2   12.6     3.15  active         0.0         3.8         NaN   \n",
       "4      3.8   15.8     3.95  active         4.6         0.0         NaN   \n",
       "\n",
       "   sl_U1CAC53  \n",
       "0         2.0  \n",
       "1         4.4  \n",
       "2         NaN  \n",
       "3         1.8  \n",
       "4         3.4  "
      ]
     },
     "execution_count": 20,
     "metadata": {},
     "output_type": "execute_result"
    }
   ],
   "source": [
    "x=df.iloc[:, 4].values\n",
    "condition = x > 4.3\n",
    "for i in x:\n",
    "    if x.all():\n",
    "        df.loc[condition, 'Target'] = 'active'\n",
    "        df.to_csv('III_BCA.csv', index=False)\n",
    "    else:\n",
    "        df.loc[condition, 'Target'] = 'slow'\n",
    "        df.to_csv('III_BCA.csv', index=False)\n",
    "df.head()"
   ]
  },
  {
   "cell_type": "code",
   "execution_count": 19,
   "id": "f15dd3a4",
   "metadata": {},
   "outputs": [
    {
     "data": {
      "text/html": [
       "<div>\n",
       "<style scoped>\n",
       "    .dataframe tbody tr th:only-of-type {\n",
       "        vertical-align: middle;\n",
       "    }\n",
       "\n",
       "    .dataframe tbody tr th {\n",
       "        vertical-align: top;\n",
       "    }\n",
       "\n",
       "    .dataframe thead th {\n",
       "        text-align: right;\n",
       "    }\n",
       "</style>\n",
       "<table border=\"1\" class=\"dataframe\">\n",
       "  <thead>\n",
       "    <tr style=\"text-align: right;\">\n",
       "      <th></th>\n",
       "      <th>id</th>\n",
       "      <th>regno</th>\n",
       "      <th>name</th>\n",
       "      <th>class</th>\n",
       "      <th>U1CAC52</th>\n",
       "      <th>U1CAC53</th>\n",
       "      <th>U3CAC51</th>\n",
       "      <th>U3CAE51</th>\n",
       "      <th>Total</th>\n",
       "      <th>Average</th>\n",
       "      <th>Target</th>\n",
       "      <th>al_U1CAC52</th>\n",
       "      <th>sl_U1CAC52</th>\n",
       "      <th>al_U1CAC53</th>\n",
       "      <th>sl_U1CAC53</th>\n",
       "    </tr>\n",
       "  </thead>\n",
       "  <tbody>\n",
       "    <tr>\n",
       "      <th>0</th>\n",
       "      <td>1.0</td>\n",
       "      <td>20suca001</td>\n",
       "      <td>ANISHA BERNETH M</td>\n",
       "      <td>B.C.A (SELF)</td>\n",
       "      <td>2.2</td>\n",
       "      <td>2.0</td>\n",
       "      <td>2.0</td>\n",
       "      <td>1.8</td>\n",
       "      <td>8.0</td>\n",
       "      <td>2.00</td>\n",
       "      <td>active</td>\n",
       "      <td>0.0</td>\n",
       "      <td>2.2</td>\n",
       "      <td>NaN</td>\n",
       "      <td>2.0</td>\n",
       "    </tr>\n",
       "    <tr>\n",
       "      <th>1</th>\n",
       "      <td>2.0</td>\n",
       "      <td>20suca002</td>\n",
       "      <td>GAYATHIRI K</td>\n",
       "      <td>B.C.A (SELF)</td>\n",
       "      <td>4.8</td>\n",
       "      <td>4.4</td>\n",
       "      <td>3.8</td>\n",
       "      <td>2.2</td>\n",
       "      <td>15.2</td>\n",
       "      <td>3.80</td>\n",
       "      <td>active</td>\n",
       "      <td>4.8</td>\n",
       "      <td>0.0</td>\n",
       "      <td>NaN</td>\n",
       "      <td>4.4</td>\n",
       "    </tr>\n",
       "    <tr>\n",
       "      <th>2</th>\n",
       "      <td>3.0</td>\n",
       "      <td>20suca003</td>\n",
       "      <td>KALAISELVI S</td>\n",
       "      <td>B.C.A (SELF)</td>\n",
       "      <td>7.0</td>\n",
       "      <td>6.0</td>\n",
       "      <td>5.4</td>\n",
       "      <td>4.2</td>\n",
       "      <td>22.6</td>\n",
       "      <td>5.65</td>\n",
       "      <td>active</td>\n",
       "      <td>7.0</td>\n",
       "      <td>0.0</td>\n",
       "      <td>6.0</td>\n",
       "      <td>NaN</td>\n",
       "    </tr>\n",
       "    <tr>\n",
       "      <th>3</th>\n",
       "      <td>4.0</td>\n",
       "      <td>20suca004</td>\n",
       "      <td>NAGARANI K</td>\n",
       "      <td>B.C.A (SELF)</td>\n",
       "      <td>3.8</td>\n",
       "      <td>1.8</td>\n",
       "      <td>3.8</td>\n",
       "      <td>3.2</td>\n",
       "      <td>12.6</td>\n",
       "      <td>3.15</td>\n",
       "      <td>active</td>\n",
       "      <td>0.0</td>\n",
       "      <td>3.8</td>\n",
       "      <td>NaN</td>\n",
       "      <td>1.8</td>\n",
       "    </tr>\n",
       "    <tr>\n",
       "      <th>4</th>\n",
       "      <td>5.0</td>\n",
       "      <td>20suca005</td>\n",
       "      <td>PATHRAKALI K</td>\n",
       "      <td>B.C.A (SELF)</td>\n",
       "      <td>4.6</td>\n",
       "      <td>3.4</td>\n",
       "      <td>4.0</td>\n",
       "      <td>3.8</td>\n",
       "      <td>15.8</td>\n",
       "      <td>3.95</td>\n",
       "      <td>active</td>\n",
       "      <td>4.6</td>\n",
       "      <td>0.0</td>\n",
       "      <td>NaN</td>\n",
       "      <td>3.4</td>\n",
       "    </tr>\n",
       "  </tbody>\n",
       "</table>\n",
       "</div>"
      ],
      "text/plain": [
       "    id      regno              name         class  U1CAC52  U1CAC53  U3CAC51  \\\n",
       "0  1.0  20suca001  ANISHA BERNETH M  B.C.A (SELF)      2.2      2.0      2.0   \n",
       "1  2.0  20suca002       GAYATHIRI K  B.C.A (SELF)      4.8      4.4      3.8   \n",
       "2  3.0  20suca003      KALAISELVI S  B.C.A (SELF)      7.0      6.0      5.4   \n",
       "3  4.0  20suca004        NAGARANI K  B.C.A (SELF)      3.8      1.8      3.8   \n",
       "4  5.0  20suca005      PATHRAKALI K  B.C.A (SELF)      4.6      3.4      4.0   \n",
       "\n",
       "   U3CAE51  Total  Average  Target  al_U1CAC52  sl_U1CAC52  al_U1CAC53  \\\n",
       "0      1.8    8.0     2.00  active         0.0         2.2         NaN   \n",
       "1      2.2   15.2     3.80  active         4.8         0.0         NaN   \n",
       "2      4.2   22.6     5.65  active         7.0         0.0         6.0   \n",
       "3      3.2   12.6     3.15  active         0.0         3.8         NaN   \n",
       "4      3.8   15.8     3.95  active         4.6         0.0         NaN   \n",
       "\n",
       "   sl_U1CAC53  \n",
       "0         2.0  \n",
       "1         4.4  \n",
       "2         NaN  \n",
       "3         1.8  \n",
       "4         3.4  "
      ]
     },
     "execution_count": 19,
     "metadata": {},
     "output_type": "execute_result"
    }
   ],
   "source": [
    "if (condition == (df['U1CAC52'] >  4.3) & (df['U1CAC53'] >= 4.4)& (df['U3CAC51'] >= 3.7)& (df['U3CAE51'] >= 3.3)).all:\n",
    "    df.loc[condition, 'Target'] = 'active'\n",
    "    df.to_csv('III_BCA.csv', index=False)\n",
    "else:\n",
    "    df.loc[condition, 'Target'] = 'slow'\n",
    "    df.to_csv('III_BCA.csv', index=False)\n",
    "        \n",
    "df.head()"
   ]
  },
  {
   "cell_type": "markdown",
   "id": "634d0820",
   "metadata": {},
   "source": [
    "# Pie chart of Target "
   ]
  },
  {
   "cell_type": "code",
   "execution_count": 7,
   "id": "1dcdcba6",
   "metadata": {},
   "outputs": [
    {
     "name": "stdout",
     "output_type": "stream",
     "text": [
      "Cluster Centers:\n",
      "    U1CAC52   U1CAC53\n",
      "0  3.857895  3.578947\n",
      "1  4.859459  5.378378\n",
      "\n",
      "Cluster Counts:\n",
      "0    38\n",
      "1    37\n",
      "Name: Cluster, dtype: int64\n"
     ]
    },
    {
     "data": {
      "image/png": "[encoded data removed]",
      "text/plain": [
       "<Figure size 640x480 with 1 Axes>"
      ]
     },
     "metadata": {},
     "output_type": "display_data"
    }
   ],
   "source": [
    "from sklearn.cluster import KMeans\n",
    "import matplotlib.pyplot as plt\n",
    "features = df[['U1CAC52', 'U1CAC53']].values\n",
    "# Choose the number of clusters (k)\n",
    "k = 2\n",
    "\n",
    "# Apply KMeans clustering algorithm\n",
    "kmeans = KMeans(n_clusters=k)\n",
    "df['Cluster'] = kmeans.fit_predict(features)\n",
    "\n",
    "# Display the cluster centers and counts\n",
    "print(\"Cluster Centers:\")\n",
    "print(pd.DataFrame(kmeans.cluster_centers_, columns=['U1CAC52', 'U1CAC53']))\n",
    "print(\"\\nCluster Counts:\")\n",
    "print(df['Cluster'].value_counts())\n",
    "\n",
    "# Visualize the clusters\n",
    "plt.scatter(features[:, 0], features[:, 1], c=df['Cluster'], cmap='viridis')\n",
    "plt.scatter(kmeans.cluster_centers_[:, 0], kmeans.cluster_centers_[:, 1], marker='X', s=200, c='red', label='Centroids')\n",
    "plt.xlabel('U1CAC52 Score')\n",
    "plt.ylabel('U1CAC53 Score')\n",
    "plt.title('K-Means Clustering of Student Marks')\n",
    "plt.legend()\n",
    "plt.show()"
   ]
  },
  {
   "cell_type": "code",
   "execution_count": 12,
   "id": "8c1cfcbc",
   "metadata": {
    "scrolled": true
   },
   "outputs": [
    {
     "name": "stdout",
     "output_type": "stream",
     "text": [
      "Cluster Centers:\n",
      "    U1CAC52   U1CAC53   U3CAC51   U3CAE51\n",
      "0  3.378947  3.157895  2.747368  2.894737\n",
      "1  6.400000  6.200000  5.080000  5.320000\n",
      "2  4.675000  4.443750  3.175000  3.268750\n",
      "3  4.242105  5.357895  3.768421  4.821053\n",
      "\n",
      "Cluster Counts:\n",
      "2    32\n",
      "0    19\n",
      "3    19\n",
      "1     5\n",
      "Name: Cluster, dtype: int64\n"
     ]
    },
    {
     "ename": "TypeError",
     "evalue": "scatter() got multiple values for argument 'c'",
     "output_type": "error",
     "traceback": [
      "\u001b[1;31m---------------------------------------------------------------------------\u001b[0m",
      "\u001b[1;31mTypeError\u001b[0m                                 Traceback (most recent call last)",
      "Cell \u001b[1;32mIn[12], line 20\u001b[0m\n\u001b[0;32m     18\u001b[0m fig \u001b[38;5;241m=\u001b[39m plt\u001b[38;5;241m.\u001b[39mfigure()\n\u001b[0;32m     19\u001b[0m \u001b[38;5;66;03m# Visualize the clusters\u001b[39;00m\n\u001b[1;32m---> 20\u001b[0m \u001b[43mplt\u001b[49m\u001b[38;5;241;43m.\u001b[39;49m\u001b[43mscatter\u001b[49m\u001b[43m(\u001b[49m\u001b[43mfeatures\u001b[49m\u001b[43m[\u001b[49m\u001b[43m:\u001b[49m\u001b[43m,\u001b[49m\u001b[43m \u001b[49m\u001b[38;5;241;43m0\u001b[39;49m\u001b[43m]\u001b[49m\u001b[43m,\u001b[49m\u001b[43mfeatures\u001b[49m\u001b[43m[\u001b[49m\u001b[43m:\u001b[49m\u001b[43m,\u001b[49m\u001b[43m \u001b[49m\u001b[38;5;241;43m1\u001b[39;49m\u001b[43m]\u001b[49m\u001b[43m,\u001b[49m\u001b[43mfeatures\u001b[49m\u001b[43m[\u001b[49m\u001b[43m:\u001b[49m\u001b[43m,\u001b[49m\u001b[43m \u001b[49m\u001b[38;5;241;43m2\u001b[39;49m\u001b[43m]\u001b[49m\u001b[43m,\u001b[49m\u001b[43mfeatures\u001b[49m\u001b[43m[\u001b[49m\u001b[43m:\u001b[49m\u001b[43m,\u001b[49m\u001b[43m \u001b[49m\u001b[38;5;241;43m3\u001b[39;49m\u001b[43m]\u001b[49m\u001b[43m,\u001b[49m\u001b[43m \u001b[49m\u001b[43mc\u001b[49m\u001b[38;5;241;43m=\u001b[39;49m\u001b[43mdf\u001b[49m\u001b[43m[\u001b[49m\u001b[38;5;124;43m'\u001b[39;49m\u001b[38;5;124;43mCluster\u001b[39;49m\u001b[38;5;124;43m'\u001b[39;49m\u001b[43m]\u001b[49m\u001b[43m,\u001b[49m\u001b[43m \u001b[49m\u001b[43mcmap\u001b[49m\u001b[38;5;241;43m=\u001b[39;49m\u001b[38;5;124;43m'\u001b[39;49m\u001b[38;5;124;43mviridis\u001b[39;49m\u001b[38;5;124;43m'\u001b[39;49m\u001b[43m,\u001b[49m\u001b[43m \u001b[49m\u001b[43mmarker\u001b[49m\u001b[38;5;241;43m=\u001b[39;49m\u001b[38;5;124;43m'\u001b[39;49m\u001b[38;5;124;43mo\u001b[39;49m\u001b[38;5;124;43m'\u001b[39;49m\u001b[43m,\u001b[49m\u001b[43m \u001b[49m\u001b[43medgecolors\u001b[49m\u001b[38;5;241;43m=\u001b[39;49m\u001b[38;5;124;43m'\u001b[39;49m\u001b[38;5;124;43mblack\u001b[39;49m\u001b[38;5;124;43m'\u001b[39;49m\u001b[43m)\u001b[49m\n\u001b[0;32m     21\u001b[0m fig\u001b[38;5;241m.\u001b[39mcolorbar(scatter, label\u001b[38;5;241m=\u001b[39m\u001b[38;5;124m'\u001b[39m\u001b[38;5;124mFourth Dimension\u001b[39m\u001b[38;5;124m'\u001b[39m)\n\u001b[0;32m     22\u001b[0m plt\u001b[38;5;241m.\u001b[39mscatter(kmeans\u001b[38;5;241m.\u001b[39mcluster_centers_[:, \u001b[38;5;241m0\u001b[39m], kmeans\u001b[38;5;241m.\u001b[39mcluster_centers_[:, \u001b[38;5;241m1\u001b[39m], kmeans\u001b[38;5;241m.\u001b[39mcluster_centers_[:, \u001b[38;5;241m2\u001b[39m], kmeans\u001b[38;5;241m.\u001b[39mcluster_centers_[:, \u001b[38;5;241m3\u001b[39m], s\u001b[38;5;241m=\u001b[39m\u001b[38;5;241m200\u001b[39m, c\u001b[38;5;241m=\u001b[39m\u001b[38;5;124m'\u001b[39m\u001b[38;5;124mred\u001b[39m\u001b[38;5;124m'\u001b[39m, marker\u001b[38;5;241m=\u001b[39m\u001b[38;5;124m'\u001b[39m\u001b[38;5;124mX\u001b[39m\u001b[38;5;124m'\u001b[39m, label\u001b[38;5;241m=\u001b[39m\u001b[38;5;124m'\u001b[39m\u001b[38;5;124mCentroids\u001b[39m\u001b[38;5;124m'\u001b[39m)\n",
      "\u001b[1;31mTypeError\u001b[0m: scatter() got multiple values for argument 'c'"
     ]
    },
    {
     "data": {
      "text/plain": [
       "<Figure size 640x480 with 0 Axes>"
      ]
     },
     "metadata": {},
     "output_type": "display_data"
    }
   ],
   "source": [
    "from sklearn.cluster import KMeans\n",
    "import matplotlib.pyplot as plt\n",
    "from mpl_toolkits.mplot3d import Axes3D\n",
    "\n",
    "features = df[['U1CAC52', 'U1CAC53','U3CAC51','U3CAE51']].values\n",
    "# Choose the number of clusters (k)\n",
    "k = 4\n",
    "ax = fig.add_subplot(111, projection='3d')\n",
    "# Apply KMeans clustering algorithm\n",
    "kmeans = KMeans(n_clusters=k)\n",
    "df['Cluster'] = kmeans.fit_predict(features)\n",
    "\n",
    "# Display the cluster centers and counts\n",
    "print(\"Cluster Centers:\")\n",
    "print(pd.DataFrame(kmeans.cluster_centers_, columns=['U1CAC52', 'U1CAC53','U3CAC51','U3CAE51']))\n",
    "print(\"\\nCluster Counts:\")\n",
    "print(df['Cluster'].value_counts())\n",
    "fig = plt.figure()\n",
    "# Visualize the clusters\n",
    "plt.scatter(features[:, 0],features[:, 1],features[:, 2],features[:, 3], c=df['Cluster'], cmap='viridis', marker='o', edgecolors='black')\n",
    "fig.colorbar(scatter, label='Fourth Dimension')\n",
    "plt.scatter(kmeans.cluster_centers_[:, 0], kmeans.cluster_centers_[:, 1], kmeans.cluster_centers_[:, 2], kmeans.cluster_centers_[:, 3], s=200, c='red', marker='X', label='Centroids')\n",
    "\n",
    "plt.xlabel('al_U1CAC52 Score')\n",
    "plt.ylabel('sl_U1CAC52 Score')\n",
    "plt.title('K-Means Clustering of Student Marks')\n",
    "plt.legend()\n",
    "plt.show()\n"
   ]
  },
  {
   "cell_type": "code",
   "execution_count": null,
   "id": "6fc17867",
   "metadata": {},
   "outputs": [],
   "source": []
  },
  {
   "cell_type": "code",
   "execution_count": null,
   "id": "fc1f14b0",
   "metadata": {},
   "outputs": [],
   "source": [
    "# Import necessary libraries\n",
    "import pandas as pd\n",
    "from sklearn.cluster import KMeans\n",
    "import matplotlib.pyplot as plt\n",
    "\n",
    "# Load the CSV file\n",
    "file_path = 'your_file_path_here.csv'\n",
    "data = pd.read_csv(file_path)\n",
    "\n",
    "# Assuming your CSV file has columns for student IDs and exam scores, adjust as needed\n",
    "# For example, if you have columns 'Student_ID' and 'MCQ_Score', you can use:\n",
    "# X = data[['MCQ_Score']]\n",
    "\n",
    "# Select relevant columns for clustering\n",
    "X = data.iloc[:, 1:]  # Adjust column indices based on your CSV structure\n",
    "\n",
    "# Choose the number of clusters (you may need to tune this parameter based on your data)\n",
    "num_clusters = 3\n",
    "\n",
    "# Apply K-Means clustering\n",
    "kmeans = KMeans(n_clusters=num_clusters, random_state=42)\n",
    "data['Cluster'] = kmeans.fit_predict(X)\n",
    "\n",
    "# Visualize the clusters\n",
    "plt.scatter(X.iloc[:, 0], X.iloc[:, 1], c=data['Cluster'], cmap='viridis', marker='o', edgecolors='black')\n",
    "plt.scatter(kmeans.cluster_centers_[:, 0], kmeans.cluster_centers_[:, 1], s=200, c='red', marker='X', label='Centroids')\n",
    "plt.title('K-Means Clustering of Students based on MCQ Examination')\n",
    "plt.xlabel('MCQ Score 1')\n",
    "plt.ylabel('MCQ Score 2')\n",
    "plt.legend()\n",
    "plt.show()\n"
   ]
  },
  {
   "cell_type": "code",
   "execution_count": 17,
   "id": "d66f96fa",
   "metadata": {},
   "outputs": [
    {
     "data": {
      "image/png": "[encoded data removed]",
      "text/plain": [
       "<Figure size 640x480 with 1 Axes>"
      ]
     },
     "metadata": {},
     "output_type": "display_data"
    }
   ],
   "source": [
    "import pandas as pd\n",
    "from sklearn.cluster import KMeans\n",
    "from sklearn.preprocessing import StandardScaler\n",
    "import matplotlib.pyplot as plt\n",
    "\n",
    "# Step 1: Load the CSV data\n",
    "data = pd.read_csv(\"III_BCA.csv\")\n",
    "\n",
    "# Step 2: Preprocess the data\n",
    "# For simplicity, assume no preprocessing is needed for this example\n",
    "\n",
    "# Step 3: Select features\n",
    "# Select the three fields of data for clustering\n",
    "X = data[['U1CAC52', 'U1CAC53','U3CAC51']]\n",
    "\n",
    "kmeans = KMeans(n_clusters=3)  # You can choose the number of clusters\n",
    "kmeans.fit(X)\n",
    "labels = kmeans.labels_\n",
    "\n",
    "# Step 4: Visualize the clusters\n",
    "# 3D scatter plot\n",
    "fig = plt.figure()\n",
    "ax = fig.add_subplot(111, projection='3d')\n",
    "ax.scatter(data['U1CAC52'], data['U1CAC53'], data['U3CAC51'], c=labels, cmap='viridis')\n",
    "ax.set_xlabel('U1CAC52')\n",
    "ax.set_ylabel('U1CAC53')\n",
    "ax.set_zlabel('U3CAC51')\n",
    "plt.title('K-means Clustering')\n",
    "plt.show()\n"
   ]
  },
  {
   "cell_type": "code",
   "execution_count": null,
   "id": "f2674480",
   "metadata": {},
   "outputs": [],
   "source": []
  }
 ],
 "metadata": {
  "kernelspec": {
   "display_name": "Python 3 (ipykernel)",
   "language": "python",
   "name": "python3"
  },
  "language_info": {
   "codemirror_mode": {
    "name": "ipython",
    "version": 3
   },
   "file_extension": ".py",
   "mimetype": "text/x-python",
   "name": "python",
   "nbconvert_exporter": "python",
   "pygments_lexer": "ipython3",
   "version": "3.10.9"
  }
 },
 "nbformat": 4,
 "nbformat_minor": 5
}
